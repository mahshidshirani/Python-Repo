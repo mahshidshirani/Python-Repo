{
  "nbformat": 4,
  "nbformat_minor": 0,
  "metadata": {
    "colab": {
      "name": "NLP.ipynb",
      "provenance": []
    },
    "kernelspec": {
      "name": "python3",
      "display_name": "Python 3"
    },
    "widgets": {
      "application/vnd.jupyter.widget-state+json": {
        "578f25598b85478aa6f0fe450f8a3e72": {
          "model_module": "@jupyter-widgets/controls",
          "model_name": "HBoxModel",
          "state": {
            "_view_name": "HBoxView",
            "_dom_classes": [],
            "_model_name": "HBoxModel",
            "_view_module": "@jupyter-widgets/controls",
            "_model_module_version": "1.5.0",
            "_view_count": null,
            "_view_module_version": "1.5.0",
            "box_style": "",
            "layout": "IPY_MODEL_a15ffca56b754e6f92beb58f2c05fd94",
            "_model_module": "@jupyter-widgets/controls",
            "children": [
              "IPY_MODEL_9f12c4167f1944029d511078323a9abe",
              "IPY_MODEL_1e64e2a9b2254ce3b46bea177717500f"
            ]
          }
        },
        "a15ffca56b754e6f92beb58f2c05fd94": {
          "model_module": "@jupyter-widgets/base",
          "model_name": "LayoutModel",
          "state": {
            "_view_name": "LayoutView",
            "grid_template_rows": null,
            "right": null,
            "justify_content": null,
            "_view_module": "@jupyter-widgets/base",
            "overflow": null,
            "_model_module_version": "1.2.0",
            "_view_count": null,
            "flex_flow": null,
            "width": null,
            "min_width": null,
            "border": null,
            "align_items": null,
            "bottom": null,
            "_model_module": "@jupyter-widgets/base",
            "top": null,
            "grid_column": null,
            "overflow_y": null,
            "overflow_x": null,
            "grid_auto_flow": null,
            "grid_area": null,
            "grid_template_columns": null,
            "flex": null,
            "_model_name": "LayoutModel",
            "justify_items": null,
            "grid_row": null,
            "max_height": null,
            "align_content": null,
            "visibility": null,
            "align_self": null,
            "height": null,
            "min_height": null,
            "padding": null,
            "grid_auto_rows": null,
            "grid_gap": null,
            "max_width": null,
            "order": null,
            "_view_module_version": "1.2.0",
            "grid_template_areas": null,
            "object_position": null,
            "object_fit": null,
            "grid_auto_columns": null,
            "margin": null,
            "display": null,
            "left": null
          }
        },
        "9f12c4167f1944029d511078323a9abe": {
          "model_module": "@jupyter-widgets/controls",
          "model_name": "FloatProgressModel",
          "state": {
            "_view_name": "ProgressView",
            "style": "IPY_MODEL_e7d8d5ef871b437390b7bfec99c662fd",
            "_dom_classes": [],
            "description": "100%",
            "_model_name": "FloatProgressModel",
            "bar_style": "success",
            "max": 15,
            "_view_module": "@jupyter-widgets/controls",
            "_model_module_version": "1.5.0",
            "value": 15,
            "_view_count": null,
            "_view_module_version": "1.5.0",
            "orientation": "horizontal",
            "min": 0,
            "description_tooltip": null,
            "_model_module": "@jupyter-widgets/controls",
            "layout": "IPY_MODEL_7c1ecfaa832f4b71b81e496bce64db70"
          }
        },
        "1e64e2a9b2254ce3b46bea177717500f": {
          "model_module": "@jupyter-widgets/controls",
          "model_name": "HTMLModel",
          "state": {
            "_view_name": "HTMLView",
            "style": "IPY_MODEL_fc9c06fc4a364d1784e4726b16a356df",
            "_dom_classes": [],
            "description": "",
            "_model_name": "HTMLModel",
            "placeholder": "​",
            "_view_module": "@jupyter-widgets/controls",
            "_model_module_version": "1.5.0",
            "value": " 15/15 [00:13&lt;00:00,  1.14it/s]",
            "_view_count": null,
            "_view_module_version": "1.5.0",
            "description_tooltip": null,
            "_model_module": "@jupyter-widgets/controls",
            "layout": "IPY_MODEL_9fa00c82d8fb45779b6e38a774ba827d"
          }
        },
        "e7d8d5ef871b437390b7bfec99c662fd": {
          "model_module": "@jupyter-widgets/controls",
          "model_name": "ProgressStyleModel",
          "state": {
            "_view_name": "StyleView",
            "_model_name": "ProgressStyleModel",
            "description_width": "initial",
            "_view_module": "@jupyter-widgets/base",
            "_model_module_version": "1.5.0",
            "_view_count": null,
            "_view_module_version": "1.2.0",
            "bar_color": null,
            "_model_module": "@jupyter-widgets/controls"
          }
        },
        "7c1ecfaa832f4b71b81e496bce64db70": {
          "model_module": "@jupyter-widgets/base",
          "model_name": "LayoutModel",
          "state": {
            "_view_name": "LayoutView",
            "grid_template_rows": null,
            "right": null,
            "justify_content": null,
            "_view_module": "@jupyter-widgets/base",
            "overflow": null,
            "_model_module_version": "1.2.0",
            "_view_count": null,
            "flex_flow": null,
            "width": null,
            "min_width": null,
            "border": null,
            "align_items": null,
            "bottom": null,
            "_model_module": "@jupyter-widgets/base",
            "top": null,
            "grid_column": null,
            "overflow_y": null,
            "overflow_x": null,
            "grid_auto_flow": null,
            "grid_area": null,
            "grid_template_columns": null,
            "flex": null,
            "_model_name": "LayoutModel",
            "justify_items": null,
            "grid_row": null,
            "max_height": null,
            "align_content": null,
            "visibility": null,
            "align_self": null,
            "height": null,
            "min_height": null,
            "padding": null,
            "grid_auto_rows": null,
            "grid_gap": null,
            "max_width": null,
            "order": null,
            "_view_module_version": "1.2.0",
            "grid_template_areas": null,
            "object_position": null,
            "object_fit": null,
            "grid_auto_columns": null,
            "margin": null,
            "display": null,
            "left": null
          }
        },
        "fc9c06fc4a364d1784e4726b16a356df": {
          "model_module": "@jupyter-widgets/controls",
          "model_name": "DescriptionStyleModel",
          "state": {
            "_view_name": "StyleView",
            "_model_name": "DescriptionStyleModel",
            "description_width": "",
            "_view_module": "@jupyter-widgets/base",
            "_model_module_version": "1.5.0",
            "_view_count": null,
            "_view_module_version": "1.2.0",
            "_model_module": "@jupyter-widgets/controls"
          }
        },
        "9fa00c82d8fb45779b6e38a774ba827d": {
          "model_module": "@jupyter-widgets/base",
          "model_name": "LayoutModel",
          "state": {
            "_view_name": "LayoutView",
            "grid_template_rows": null,
            "right": null,
            "justify_content": null,
            "_view_module": "@jupyter-widgets/base",
            "overflow": null,
            "_model_module_version": "1.2.0",
            "_view_count": null,
            "flex_flow": null,
            "width": null,
            "min_width": null,
            "border": null,
            "align_items": null,
            "bottom": null,
            "_model_module": "@jupyter-widgets/base",
            "top": null,
            "grid_column": null,
            "overflow_y": null,
            "overflow_x": null,
            "grid_auto_flow": null,
            "grid_area": null,
            "grid_template_columns": null,
            "flex": null,
            "_model_name": "LayoutModel",
            "justify_items": null,
            "grid_row": null,
            "max_height": null,
            "align_content": null,
            "visibility": null,
            "align_self": null,
            "height": null,
            "min_height": null,
            "padding": null,
            "grid_auto_rows": null,
            "grid_gap": null,
            "max_width": null,
            "order": null,
            "_view_module_version": "1.2.0",
            "grid_template_areas": null,
            "object_position": null,
            "object_fit": null,
            "grid_auto_columns": null,
            "margin": null,
            "display": null,
            "left": null
          }
        },
        "7e8948eb84ed4eaea96945a3b9e97cfb": {
          "model_module": "@jupyter-widgets/controls",
          "model_name": "HBoxModel",
          "state": {
            "_view_name": "HBoxView",
            "_dom_classes": [],
            "_model_name": "HBoxModel",
            "_view_module": "@jupyter-widgets/controls",
            "_model_module_version": "1.5.0",
            "_view_count": null,
            "_view_module_version": "1.5.0",
            "box_style": "",
            "layout": "IPY_MODEL_f7582677087648298349d748f9e4d5c1",
            "_model_module": "@jupyter-widgets/controls",
            "children": [
              "IPY_MODEL_227347d9d46742f3a1371d98ed2fcaa0",
              "IPY_MODEL_953a8248089f4122967e18d3597a8657"
            ]
          }
        },
        "f7582677087648298349d748f9e4d5c1": {
          "model_module": "@jupyter-widgets/base",
          "model_name": "LayoutModel",
          "state": {
            "_view_name": "LayoutView",
            "grid_template_rows": null,
            "right": null,
            "justify_content": null,
            "_view_module": "@jupyter-widgets/base",
            "overflow": null,
            "_model_module_version": "1.2.0",
            "_view_count": null,
            "flex_flow": null,
            "width": null,
            "min_width": null,
            "border": null,
            "align_items": null,
            "bottom": null,
            "_model_module": "@jupyter-widgets/base",
            "top": null,
            "grid_column": null,
            "overflow_y": null,
            "overflow_x": null,
            "grid_auto_flow": null,
            "grid_area": null,
            "grid_template_columns": null,
            "flex": null,
            "_model_name": "LayoutModel",
            "justify_items": null,
            "grid_row": null,
            "max_height": null,
            "align_content": null,
            "visibility": null,
            "align_self": null,
            "height": null,
            "min_height": null,
            "padding": null,
            "grid_auto_rows": null,
            "grid_gap": null,
            "max_width": null,
            "order": null,
            "_view_module_version": "1.2.0",
            "grid_template_areas": null,
            "object_position": null,
            "object_fit": null,
            "grid_auto_columns": null,
            "margin": null,
            "display": null,
            "left": null
          }
        },
        "227347d9d46742f3a1371d98ed2fcaa0": {
          "model_module": "@jupyter-widgets/controls",
          "model_name": "FloatProgressModel",
          "state": {
            "_view_name": "ProgressView",
            "style": "IPY_MODEL_1050bf45e67a41f0a9abc1cc96ef2173",
            "_dom_classes": [],
            "description": "100%",
            "_model_name": "FloatProgressModel",
            "bar_style": "success",
            "max": 15,
            "_view_module": "@jupyter-widgets/controls",
            "_model_module_version": "1.5.0",
            "value": 15,
            "_view_count": null,
            "_view_module_version": "1.5.0",
            "orientation": "horizontal",
            "min": 0,
            "description_tooltip": null,
            "_model_module": "@jupyter-widgets/controls",
            "layout": "IPY_MODEL_4e38b484dd304af7ad56ca123b9a50e9"
          }
        },
        "953a8248089f4122967e18d3597a8657": {
          "model_module": "@jupyter-widgets/controls",
          "model_name": "HTMLModel",
          "state": {
            "_view_name": "HTMLView",
            "style": "IPY_MODEL_d762a2120cff44f6b2b3ad91651fbabc",
            "_dom_classes": [],
            "description": "",
            "_model_name": "HTMLModel",
            "placeholder": "​",
            "_view_module": "@jupyter-widgets/controls",
            "_model_module_version": "1.5.0",
            "value": " 15/15 [00:29&lt;00:00,  1.96s/it]",
            "_view_count": null,
            "_view_module_version": "1.5.0",
            "description_tooltip": null,
            "_model_module": "@jupyter-widgets/controls",
            "layout": "IPY_MODEL_c1f60a1356d44d7ca780a97cc4091c77"
          }
        },
        "1050bf45e67a41f0a9abc1cc96ef2173": {
          "model_module": "@jupyter-widgets/controls",
          "model_name": "ProgressStyleModel",
          "state": {
            "_view_name": "StyleView",
            "_model_name": "ProgressStyleModel",
            "description_width": "initial",
            "_view_module": "@jupyter-widgets/base",
            "_model_module_version": "1.5.0",
            "_view_count": null,
            "_view_module_version": "1.2.0",
            "bar_color": null,
            "_model_module": "@jupyter-widgets/controls"
          }
        },
        "4e38b484dd304af7ad56ca123b9a50e9": {
          "model_module": "@jupyter-widgets/base",
          "model_name": "LayoutModel",
          "state": {
            "_view_name": "LayoutView",
            "grid_template_rows": null,
            "right": null,
            "justify_content": null,
            "_view_module": "@jupyter-widgets/base",
            "overflow": null,
            "_model_module_version": "1.2.0",
            "_view_count": null,
            "flex_flow": null,
            "width": null,
            "min_width": null,
            "border": null,
            "align_items": null,
            "bottom": null,
            "_model_module": "@jupyter-widgets/base",
            "top": null,
            "grid_column": null,
            "overflow_y": null,
            "overflow_x": null,
            "grid_auto_flow": null,
            "grid_area": null,
            "grid_template_columns": null,
            "flex": null,
            "_model_name": "LayoutModel",
            "justify_items": null,
            "grid_row": null,
            "max_height": null,
            "align_content": null,
            "visibility": null,
            "align_self": null,
            "height": null,
            "min_height": null,
            "padding": null,
            "grid_auto_rows": null,
            "grid_gap": null,
            "max_width": null,
            "order": null,
            "_view_module_version": "1.2.0",
            "grid_template_areas": null,
            "object_position": null,
            "object_fit": null,
            "grid_auto_columns": null,
            "margin": null,
            "display": null,
            "left": null
          }
        },
        "d762a2120cff44f6b2b3ad91651fbabc": {
          "model_module": "@jupyter-widgets/controls",
          "model_name": "DescriptionStyleModel",
          "state": {
            "_view_name": "StyleView",
            "_model_name": "DescriptionStyleModel",
            "description_width": "",
            "_view_module": "@jupyter-widgets/base",
            "_model_module_version": "1.5.0",
            "_view_count": null,
            "_view_module_version": "1.2.0",
            "_model_module": "@jupyter-widgets/controls"
          }
        },
        "c1f60a1356d44d7ca780a97cc4091c77": {
          "model_module": "@jupyter-widgets/base",
          "model_name": "LayoutModel",
          "state": {
            "_view_name": "LayoutView",
            "grid_template_rows": null,
            "right": null,
            "justify_content": null,
            "_view_module": "@jupyter-widgets/base",
            "overflow": null,
            "_model_module_version": "1.2.0",
            "_view_count": null,
            "flex_flow": null,
            "width": null,
            "min_width": null,
            "border": null,
            "align_items": null,
            "bottom": null,
            "_model_module": "@jupyter-widgets/base",
            "top": null,
            "grid_column": null,
            "overflow_y": null,
            "overflow_x": null,
            "grid_auto_flow": null,
            "grid_area": null,
            "grid_template_columns": null,
            "flex": null,
            "_model_name": "LayoutModel",
            "justify_items": null,
            "grid_row": null,
            "max_height": null,
            "align_content": null,
            "visibility": null,
            "align_self": null,
            "height": null,
            "min_height": null,
            "padding": null,
            "grid_auto_rows": null,
            "grid_gap": null,
            "max_width": null,
            "order": null,
            "_view_module_version": "1.2.0",
            "grid_template_areas": null,
            "object_position": null,
            "object_fit": null,
            "grid_auto_columns": null,
            "margin": null,
            "display": null,
            "left": null
          }
        },
        "b84df523d0aa48898fd3c75ac62cca04": {
          "model_module": "@jupyter-widgets/controls",
          "model_name": "HBoxModel",
          "state": {
            "_view_name": "HBoxView",
            "_dom_classes": [],
            "_model_name": "HBoxModel",
            "_view_module": "@jupyter-widgets/controls",
            "_model_module_version": "1.5.0",
            "_view_count": null,
            "_view_module_version": "1.5.0",
            "box_style": "",
            "layout": "IPY_MODEL_ba9fdd40a1734545a5ccc0c655a97794",
            "_model_module": "@jupyter-widgets/controls",
            "children": [
              "IPY_MODEL_c31248036d9547debc80d427fdad1b45",
              "IPY_MODEL_6f26c15488bc4e9b8197408eb81a58ab"
            ]
          }
        },
        "ba9fdd40a1734545a5ccc0c655a97794": {
          "model_module": "@jupyter-widgets/base",
          "model_name": "LayoutModel",
          "state": {
            "_view_name": "LayoutView",
            "grid_template_rows": null,
            "right": null,
            "justify_content": null,
            "_view_module": "@jupyter-widgets/base",
            "overflow": null,
            "_model_module_version": "1.2.0",
            "_view_count": null,
            "flex_flow": null,
            "width": null,
            "min_width": null,
            "border": null,
            "align_items": null,
            "bottom": null,
            "_model_module": "@jupyter-widgets/base",
            "top": null,
            "grid_column": null,
            "overflow_y": null,
            "overflow_x": null,
            "grid_auto_flow": null,
            "grid_area": null,
            "grid_template_columns": null,
            "flex": null,
            "_model_name": "LayoutModel",
            "justify_items": null,
            "grid_row": null,
            "max_height": null,
            "align_content": null,
            "visibility": null,
            "align_self": null,
            "height": null,
            "min_height": null,
            "padding": null,
            "grid_auto_rows": null,
            "grid_gap": null,
            "max_width": null,
            "order": null,
            "_view_module_version": "1.2.0",
            "grid_template_areas": null,
            "object_position": null,
            "object_fit": null,
            "grid_auto_columns": null,
            "margin": null,
            "display": null,
            "left": null
          }
        },
        "c31248036d9547debc80d427fdad1b45": {
          "model_module": "@jupyter-widgets/controls",
          "model_name": "FloatProgressModel",
          "state": {
            "_view_name": "ProgressView",
            "style": "IPY_MODEL_6cfb2520216c4e2db9c1db2ce9d0f9ae",
            "_dom_classes": [],
            "description": "100%",
            "_model_name": "FloatProgressModel",
            "bar_style": "success",
            "max": 15,
            "_view_module": "@jupyter-widgets/controls",
            "_model_module_version": "1.5.0",
            "value": 15,
            "_view_count": null,
            "_view_module_version": "1.5.0",
            "orientation": "horizontal",
            "min": 0,
            "description_tooltip": null,
            "_model_module": "@jupyter-widgets/controls",
            "layout": "IPY_MODEL_44242b3e0825490a9f25a6855209b45f"
          }
        },
        "6f26c15488bc4e9b8197408eb81a58ab": {
          "model_module": "@jupyter-widgets/controls",
          "model_name": "HTMLModel",
          "state": {
            "_view_name": "HTMLView",
            "style": "IPY_MODEL_34eea0b45e264bfa8b3ae8c710c8a9e1",
            "_dom_classes": [],
            "description": "",
            "_model_name": "HTMLModel",
            "placeholder": "​",
            "_view_module": "@jupyter-widgets/controls",
            "_model_module_version": "1.5.0",
            "value": " 15/15 [00:00&lt;00:00, 167.67it/s]",
            "_view_count": null,
            "_view_module_version": "1.5.0",
            "description_tooltip": null,
            "_model_module": "@jupyter-widgets/controls",
            "layout": "IPY_MODEL_2ae92b6d4de142bb8734c5fffa8b1520"
          }
        },
        "6cfb2520216c4e2db9c1db2ce9d0f9ae": {
          "model_module": "@jupyter-widgets/controls",
          "model_name": "ProgressStyleModel",
          "state": {
            "_view_name": "StyleView",
            "_model_name": "ProgressStyleModel",
            "description_width": "initial",
            "_view_module": "@jupyter-widgets/base",
            "_model_module_version": "1.5.0",
            "_view_count": null,
            "_view_module_version": "1.2.0",
            "bar_color": null,
            "_model_module": "@jupyter-widgets/controls"
          }
        },
        "44242b3e0825490a9f25a6855209b45f": {
          "model_module": "@jupyter-widgets/base",
          "model_name": "LayoutModel",
          "state": {
            "_view_name": "LayoutView",
            "grid_template_rows": null,
            "right": null,
            "justify_content": null,
            "_view_module": "@jupyter-widgets/base",
            "overflow": null,
            "_model_module_version": "1.2.0",
            "_view_count": null,
            "flex_flow": null,
            "width": null,
            "min_width": null,
            "border": null,
            "align_items": null,
            "bottom": null,
            "_model_module": "@jupyter-widgets/base",
            "top": null,
            "grid_column": null,
            "overflow_y": null,
            "overflow_x": null,
            "grid_auto_flow": null,
            "grid_area": null,
            "grid_template_columns": null,
            "flex": null,
            "_model_name": "LayoutModel",
            "justify_items": null,
            "grid_row": null,
            "max_height": null,
            "align_content": null,
            "visibility": null,
            "align_self": null,
            "height": null,
            "min_height": null,
            "padding": null,
            "grid_auto_rows": null,
            "grid_gap": null,
            "max_width": null,
            "order": null,
            "_view_module_version": "1.2.0",
            "grid_template_areas": null,
            "object_position": null,
            "object_fit": null,
            "grid_auto_columns": null,
            "margin": null,
            "display": null,
            "left": null
          }
        },
        "34eea0b45e264bfa8b3ae8c710c8a9e1": {
          "model_module": "@jupyter-widgets/controls",
          "model_name": "DescriptionStyleModel",
          "state": {
            "_view_name": "StyleView",
            "_model_name": "DescriptionStyleModel",
            "description_width": "",
            "_view_module": "@jupyter-widgets/base",
            "_model_module_version": "1.5.0",
            "_view_count": null,
            "_view_module_version": "1.2.0",
            "_model_module": "@jupyter-widgets/controls"
          }
        },
        "2ae92b6d4de142bb8734c5fffa8b1520": {
          "model_module": "@jupyter-widgets/base",
          "model_name": "LayoutModel",
          "state": {
            "_view_name": "LayoutView",
            "grid_template_rows": null,
            "right": null,
            "justify_content": null,
            "_view_module": "@jupyter-widgets/base",
            "overflow": null,
            "_model_module_version": "1.2.0",
            "_view_count": null,
            "flex_flow": null,
            "width": null,
            "min_width": null,
            "border": null,
            "align_items": null,
            "bottom": null,
            "_model_module": "@jupyter-widgets/base",
            "top": null,
            "grid_column": null,
            "overflow_y": null,
            "overflow_x": null,
            "grid_auto_flow": null,
            "grid_area": null,
            "grid_template_columns": null,
            "flex": null,
            "_model_name": "LayoutModel",
            "justify_items": null,
            "grid_row": null,
            "max_height": null,
            "align_content": null,
            "visibility": null,
            "align_self": null,
            "height": null,
            "min_height": null,
            "padding": null,
            "grid_auto_rows": null,
            "grid_gap": null,
            "max_width": null,
            "order": null,
            "_view_module_version": "1.2.0",
            "grid_template_areas": null,
            "object_position": null,
            "object_fit": null,
            "grid_auto_columns": null,
            "margin": null,
            "display": null,
            "left": null
          }
        }
      }
    }
  },
  "cells": [
    {
      "cell_type": "markdown",
      "metadata": {
        "id": "iOdTdrCVVqxa",
        "colab_type": "text"
      },
      "source": [
        "#### Basic Text Operations\n",
        "\n"
      ]
    },
    {
      "cell_type": "code",
      "metadata": {
        "id": "B028JCx5yrI2",
        "colab_type": "code",
        "colab": {
          "base_uri": "https://localhost:8080/",
          "height": 45
        },
        "outputId": "f9719b2f-235c-4025-c46c-37294d41ff26"
      },
      "source": [
        "import requests"
        "from ipywidgets import Image"
        "Image(value=requests.get('https://github.com/mahshidshirani/Test/blob/master/Altair_logo.jpg').content)"
      ],
      "execution_count": 3,
      "outputs": [
        {
          "output_type": "execute_result",
          "data": {
            "text/html": [
              "<img src=\"https://github.com/mahshidshirani/Test/blob/master/Altair_logo.jpg\"/>"
            ],
            "text/plain": [
              "<IPython.core.display.Image object>"
            ]
          },
          "metadata": {
            "tags": []
          },
          "execution_count": 3
        }
      ]
    },
    {
      "cell_type": "code",
      "metadata": {
        "id": "nomNIUUZ71VW",
        "colab_type": "code",
        "colab": {}
      },
      "source": [
        "#The Natural Language Toolkit (NLTK) is Python library for Natural Language Processing.\n",
        "import nltk"
      ],
      "execution_count": null,
      "outputs": []
    },
    {
      "cell_type": "code",
      "metadata": {
        "id": "aRFbGj9XHrkn",
        "colab_type": "code",
        "colab": {}
      },
      "source": [
        "nltk.data.clear_cache()\n",
        "#Remove all objects from the resource cache."
      ],
      "execution_count": null,
      "outputs": []
    },
    {
      "cell_type": "code",
      "metadata": {
        "id": "lF7V9VEl8Pyt",
        "colab_type": "code",
        "colab": {}
      },
      "source": [
        "nltk.download(\"popular\")"
      ],
      "execution_count": null,
      "outputs": []
    },
    {
      "cell_type": "code",
      "metadata": {
        "id": "jDL7Yok-Cr99",
        "colab_type": "code",
        "colab": {}
      },
      "source": [
        "nltk.download('book')"
      ],
      "execution_count": null,
      "outputs": []
    },
    {
      "cell_type": "code",
      "metadata": {
        "id": "HGhWLqzJC4G7",
        "colab_type": "code",
        "colab": {
          "base_uri": "https://localhost:8080/",
          "height": 238
        },
        "outputId": "3e3c9194-7251-4593-9fea-62d01142810b"
      },
      "source": [
        "from nltk.book import *"
      ],
      "execution_count": null,
      "outputs": [
        {
          "output_type": "stream",
          "text": [
            "*** Introductory Examples for the NLTK Book ***\n",
            "Loading text1, ..., text9 and sent1, ..., sent9\n",
            "Type the name of the text or sentence to view it.\n",
            "Type: 'texts()' or 'sents()' to list the materials.\n",
            "text1: Moby Dick by Herman Melville 1851\n",
            "text2: Sense and Sensibility by Jane Austen 1811\n",
            "text3: The Book of Genesis\n",
            "text4: Inaugural Address Corpus\n",
            "text5: Chat Corpus\n",
            "text6: Monty Python and the Holy Grail\n",
            "text7: Wall Street Journal\n",
            "text8: Personals Corpus\n",
            "text9: The Man Who Was Thursday by G . K . Chesterton 1908\n"
          ],
          "name": "stdout"
        }
      ]
    },
    {
      "cell_type": "code",
      "metadata": {
        "id": "WSv6o0H9DANe",
        "colab_type": "code",
        "colab": {
          "base_uri": "https://localhost:8080/",
          "height": 34
        },
        "outputId": "de863bf0-4a12-4473-b177-d6b98abc5923"
      },
      "source": [
        "len(text6.tokens)"
      ],
      "execution_count": null,
      "outputs": [
        {
          "output_type": "execute_result",
          "data": {
            "text/plain": [
              "16967"
            ]
          },
          "metadata": {
            "tags": []
          },
          "execution_count": 6
        }
      ]
    },
    {
      "cell_type": "code",
      "metadata": {
        "id": "w8c1-NpiGuW0",
        "colab_type": "code",
        "colab": {
          "base_uri": "https://localhost:8080/",
          "height": 34
        },
        "outputId": "89dd0c86-5108-49b4-c9ba-8205bbeb41de"
      },
      "source": [
        "len(text6)"
      ],
      "execution_count": null,
      "outputs": [
        {
          "output_type": "execute_result",
          "data": {
            "text/plain": [
              "16967"
            ]
          },
          "metadata": {
            "tags": []
          },
          "execution_count": 7
        }
      ]
    },
    {
      "cell_type": "code",
      "metadata": {
        "id": "U_04cgbgCN0q",
        "colab_type": "code",
        "colab": {
          "base_uri": "https://localhost:8080/",
          "height": 35
        },
        "outputId": "b323d274-eadc-4a03-a3dd-f5375dd2b792"
      },
      "source": [
        "text6.name"
      ],
      "execution_count": null,
      "outputs": [
        {
          "output_type": "execute_result",
          "data": {
            "application/vnd.google.colaboratory.intrinsic": {
              "type": "string"
            },
            "text/plain": [
              "'Monty Python and the Holy Grail'"
            ]
          },
          "metadata": {
            "tags": []
          },
          "execution_count": 8
        }
      ]
    },
    {
      "cell_type": "code",
      "metadata": {
        "id": "bkXAtXRzCTDb",
        "colab_type": "code",
        "colab": {
          "base_uri": "https://localhost:8080/",
          "height": 295
        },
        "outputId": "9b53e711-da27-41c0-932e-c9aa6cd5ad34"
      },
      "source": [
        "text6.dispersion_plot(list(text6.tokens))"
      ],
      "execution_count": null,
      "outputs": [
        {
          "output_type": "display_data",
          "data": {
            "image/png": "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\n",
            "text/plain": [
              "<Figure size 432x288 with 1 Axes>"
            ]
          },
          "metadata": {
            "tags": [],
            "needs_background": "light"
          }
        }
      ]
    },
    {
      "cell_type": "code",
      "metadata": {
        "id": "PvY6Tq84DCFO",
        "colab_type": "code",
        "colab": {
          "base_uri": "https://localhost:8080/",
          "height": 170
        },
        "outputId": "560a5643-12a2-460a-cda6-3b51f10ba656"
      },
      "source": [
        "sents()"
      ],
      "execution_count": null,
      "outputs": [
        {
          "output_type": "stream",
          "text": [
            "sent1: Call me Ishmael .\n",
            "sent2: The family of Dashwood had long been settled in Sussex .\n",
            "sent3: In the beginning God created the heaven and the earth .\n",
            "sent4: Fellow - Citizens of the Senate and of the House of Representatives :\n",
            "sent5: I have a problem with people PMing me to lol JOIN\n",
            "sent6: SCENE 1 : [ wind ] [ clop clop clop ] KING ARTHUR : Whoa there !\n",
            "sent7: Pierre Vinken , 61 years old , will join the board as a nonexecutive director Nov. 29 .\n",
            "sent8: 25 SEXY MALE , seeks attrac older single lady , for discreet encounters .\n",
            "sent9: THE suburb of Saffron Park lay on the sunset side of London , as red and ragged as a cloud of sunset .\n"
          ],
          "name": "stdout"
        }
      ]
    },
    {
      "cell_type": "code",
      "metadata": {
        "id": "nyngxwh9DEx2",
        "colab_type": "code",
        "colab": {
          "base_uri": "https://localhost:8080/",
          "height": 34
        },
        "outputId": "a23c4d6c-6f9a-4a38-ff35-fd072a756cc7"
      },
      "source": [
        "sent1"
      ],
      "execution_count": null,
      "outputs": [
        {
          "output_type": "execute_result",
          "data": {
            "text/plain": [
              "['Call', 'me', 'Ishmael', '.']"
            ]
          },
          "metadata": {
            "tags": []
          },
          "execution_count": 10
        }
      ]
    },
    {
      "cell_type": "code",
      "metadata": {
        "id": "t7hasjs-DHfR",
        "colab_type": "code",
        "colab": {
          "base_uri": "https://localhost:8080/",
          "height": 34
        },
        "outputId": "06a87d81-32c4-4f5f-a7cc-36415b98562d"
      },
      "source": [
        "print(text6, len(text6))"
      ],
      "execution_count": null,
      "outputs": [
        {
          "output_type": "stream",
          "text": [
            "<Text: Monty Python and the Holy Grail> 16967\n"
          ],
          "name": "stdout"
        }
      ]
    },
    {
      "cell_type": "code",
      "metadata": {
        "id": "rK7vKmUaDR3k",
        "colab_type": "code",
        "colab": {
          "base_uri": "https://localhost:8080/",
          "height": 34
        },
        "outputId": "32989673-3817-4f10-d8b9-9caf274e6b2f"
      },
      "source": [
        "text6[16960:]"
      ],
      "execution_count": null,
      "outputs": [
        {
          "output_type": "execute_result",
          "data": {
            "text/plain": [
              "['[', 'crash', ']', 'CAMERAMAN', ':', 'Christ', '!']"
            ]
          },
          "metadata": {
            "tags": []
          },
          "execution_count": 12
        }
      ]
    },
    {
      "cell_type": "code",
      "metadata": {
        "id": "nq4kAT1sDmLq",
        "colab_type": "code",
        "colab": {
          "base_uri": "https://localhost:8080/",
          "height": 34
        },
        "outputId": "0f60e90c-10a2-4971-9d11-702e2388ae68"
      },
      "source": [
        "print(sent1, len(sent1))"
      ],
      "execution_count": null,
      "outputs": [
        {
          "output_type": "stream",
          "text": [
            "['Call', 'me', 'Ishmael', '.'] 4\n"
          ],
          "name": "stdout"
        }
      ]
    },
    {
      "cell_type": "code",
      "metadata": {
        "id": "q18RWk2UDtAC",
        "colab_type": "code",
        "colab": {
          "base_uri": "https://localhost:8080/",
          "height": 187
        },
        "outputId": "eed9d0d2-d830-46d4-fe7c-34106ab592b8"
      },
      "source": [
        "list(set(text6))[-10:]"
      ],
      "execution_count": null,
      "outputs": [
        {
          "output_type": "execute_result",
          "data": {
            "text/plain": [
              "['hear',\n",
              " 'Bors',\n",
              " 'lunged',\n",
              " 'Ni',\n",
              " 'wayy',\n",
              " 'vache',\n",
              " 'bravest',\n",
              " 'Enchanter',\n",
              " 'earth',\n",
              " '12']"
            ]
          },
          "metadata": {
            "tags": []
          },
          "execution_count": 14
        }
      ]
    },
    {
      "cell_type": "code",
      "metadata": {
        "id": "vfWctLsnE2Qh",
        "colab_type": "code",
        "colab": {}
      },
      "source": [
        "FreqDist(text6)"
      ],
      "execution_count": null,
      "outputs": []
    },
    {
      "cell_type": "code",
      "metadata": {
        "id": "AuwQNIzZD8OL",
        "colab_type": "code",
        "colab": {
          "base_uri": "https://localhost:8080/",
          "height": 34
        },
        "outputId": "f315fc50-90cf-4bbc-e4d0-9a52c388edf7"
      },
      "source": [
        "# Frequency of words\n",
        "dist = FreqDist(text6)\n",
        "len(dist)"
      ],
      "execution_count": null,
      "outputs": [
        {
          "output_type": "execute_result",
          "data": {
            "text/plain": [
              "2166"
            ]
          },
          "metadata": {
            "tags": []
          },
          "execution_count": 16
        }
      ]
    },
    {
      "cell_type": "code",
      "metadata": {
        "id": "XXxfa7waEglT",
        "colab_type": "code",
        "colab": {}
      },
      "source": [
        "vocab1 = list(dist.keys())"
      ],
      "execution_count": null,
      "outputs": []
    },
    {
      "cell_type": "code",
      "metadata": {
        "id": "f8IMDy56FNZ_",
        "colab_type": "code",
        "colab": {
          "base_uri": "https://localhost:8080/",
          "height": 187
        },
        "outputId": "eb91f0f7-d7b7-46d4-8651-d3613c8c3ba1"
      },
      "source": [
        "vocab1[-10:]"
      ],
      "execution_count": null,
      "outputs": [
        {
          "output_type": "execute_result",
          "data": {
            "text/plain": [
              "['Which',\n",
              " 'blanket',\n",
              " 'hospital',\n",
              " 'Riiight',\n",
              " 'offensive',\n",
              " 'weapon',\n",
              " 'Everything',\n",
              " 'sonny',\n",
              " 'pack',\n",
              " 'CAMERAMAN']"
            ]
          },
          "metadata": {
            "tags": []
          },
          "execution_count": 18
        }
      ]
    },
    {
      "cell_type": "code",
      "metadata": {
        "id": "OBKWlgKFHDVj",
        "colab_type": "code",
        "colab": {
          "base_uri": "https://localhost:8080/",
          "height": 34
        },
        "outputId": "b05ce631-c36b-4174-c047-ff902220b509"
      },
      "source": [
        "vocab1[:10]"
      ],
      "execution_count": null,
      "outputs": [
        {
          "output_type": "execute_result",
          "data": {
            "text/plain": [
              "['SCENE', '1', ':', '[', 'wind', ']', 'clop', 'KING', 'ARTHUR', 'Whoa']"
            ]
          },
          "metadata": {
            "tags": []
          },
          "execution_count": 19
        }
      ]
    },
    {
      "cell_type": "code",
      "metadata": {
        "id": "xtRQ3ePWHEtC",
        "colab_type": "code",
        "colab": {
          "base_uri": "https://localhost:8080/",
          "height": 34
        },
        "outputId": "df6bb9f2-5005-4af8-97e0-db584e023944"
      },
      "source": [
        "# different forms of the same \"word\"\n",
        "input1 = 'List listed lists listing listings'\n",
        "words1 = input1.lower().split(' ')\n",
        "words1"
      ],
      "execution_count": null,
      "outputs": [
        {
          "output_type": "execute_result",
          "data": {
            "text/plain": [
              "['list', 'listed', 'lists', 'listing', 'listings']"
            ]
          },
          "metadata": {
            "tags": []
          },
          "execution_count": 20
        }
      ]
    },
    {
      "cell_type": "code",
      "metadata": {
        "id": "1LiXwzECHRKQ",
        "colab_type": "code",
        "colab": {
          "base_uri": "https://localhost:8080/",
          "height": 34
        },
        "outputId": "d1e243be-2874-4245-e3c8-54908fe4696d"
      },
      "source": [
        "porter = nltk.PorterStemmer()\n",
        "[porter.stem(t) for t in words1]"
      ],
      "execution_count": null,
      "outputs": [
        {
          "output_type": "execute_result",
          "data": {
            "text/plain": [
              "['list', 'list', 'list', 'list', 'list']"
            ]
          },
          "metadata": {
            "tags": []
          },
          "execution_count": 21
        }
      ]
    },
    {
      "cell_type": "code",
      "metadata": {
        "id": "4wdPlsePHT8K",
        "colab_type": "code",
        "colab": {
          "base_uri": "https://localhost:8080/",
          "height": 34
        },
        "outputId": "f6601c3d-2b03-438c-e12d-1fd63e2172f7"
      },
      "source": [
        "\n",
        "stemmer = nltk.SnowballStemmer(\"english\")\n",
        "[stemmer.stem(t) for t in words1]"
      ],
      "execution_count": null,
      "outputs": [
        {
          "output_type": "execute_result",
          "data": {
            "text/plain": [
              "['list', 'list', 'list', 'list', 'list']"
            ]
          },
          "metadata": {
            "tags": []
          },
          "execution_count": 22
        }
      ]
    },
    {
      "cell_type": "code",
      "metadata": {
        "id": "8v3GQk3UHixd",
        "colab_type": "code",
        "colab": {
          "base_uri": "https://localhost:8080/",
          "height": 34
        },
        "outputId": "3c665054-1a9c-4411-e9a7-bc0752b1fefc"
      },
      "source": [
        "# tokenization\n",
        "text11 = \"Children shouldn't drink a sugary drink before bed.\"\n",
        "text11.split(' ')"
      ],
      "execution_count": null,
      "outputs": [
        {
          "output_type": "execute_result",
          "data": {
            "text/plain": [
              "['Children', \"shouldn't\", 'drink', 'a', 'sugary', 'drink', 'before', 'bed.']"
            ]
          },
          "metadata": {
            "tags": []
          },
          "execution_count": 23
        }
      ]
    },
    {
      "cell_type": "code",
      "metadata": {
        "id": "xJMUnGjcHp5g",
        "colab_type": "code",
        "colab": {
          "base_uri": "https://localhost:8080/",
          "height": 187
        },
        "outputId": "5c739dff-5c96-4215-a0dd-ab17acfae6d0"
      },
      "source": [
        "nltk.word_tokenize(text11)"
      ],
      "execution_count": null,
      "outputs": [
        {
          "output_type": "execute_result",
          "data": {
            "text/plain": [
              "['Children',\n",
              " 'should',\n",
              " \"n't\",\n",
              " 'drink',\n",
              " 'a',\n",
              " 'sugary',\n",
              " 'drink',\n",
              " 'before',\n",
              " 'bed',\n",
              " '.']"
            ]
          },
          "metadata": {
            "tags": []
          },
          "execution_count": 24
        }
      ]
    },
    {
      "cell_type": "code",
      "metadata": {
        "id": "jA1JciH8HqpX",
        "colab_type": "code",
        "colab": {
          "base_uri": "https://localhost:8080/",
          "height": 34
        },
        "outputId": "03442864-79c1-4b32-b28d-3da56e529430"
      },
      "source": [
        "# sentence splitting\n",
        "text12 = 'This is the first sentence. This is the second sentence. Is this the third sentence? Yes, it is!'\n",
        "sentences = nltk.sent_tokenize(text12)\n",
        "len(sentences)"
      ],
      "execution_count": null,
      "outputs": [
        {
          "output_type": "execute_result",
          "data": {
            "text/plain": [
              "4"
            ]
          },
          "metadata": {
            "tags": []
          },
          "execution_count": 25
        }
      ]
    },
    {
      "cell_type": "code",
      "metadata": {
        "id": "9A9LQJM8H_Ld",
        "colab_type": "code",
        "colab": {
          "base_uri": "https://localhost:8080/",
          "height": 85
        },
        "outputId": "61ce248a-1052-4fc6-e626-b601ed77971a"
      },
      "source": [
        "sentences"
      ],
      "execution_count": null,
      "outputs": [
        {
          "output_type": "execute_result",
          "data": {
            "text/plain": [
              "['This is the first sentence.',\n",
              " 'This is the second sentence.',\n",
              " 'Is this the third sentence?',\n",
              " 'Yes, it is!']"
            ]
          },
          "metadata": {
            "tags": []
          },
          "execution_count": 26
        }
      ]
    },
    {
      "cell_type": "markdown",
      "metadata": {
        "id": "y1yZu7BwYXcM",
        "colab_type": "text"
      },
      "source": [
        "#### Cleaning Text\n"
      ]
    },
    {
      "cell_type": "code",
      "metadata": {
        "id": "hrIuFsyyJNhP",
        "colab_type": "code",
        "colab": {}
      },
      "source": [
        "raw_docs = [\"Here are some very simple basic sentences.\", \"They won't be very interesting, I'm afraid.\", \"The point of these examples is to _learn how basic text cleaning works_ on $%^/*very simple* data.\"]"
      ],
      "execution_count": null,
      "outputs": []
    },
    {
      "cell_type": "code",
      "metadata": {
        "id": "aGCf-r6MJVV5",
        "colab_type": "code",
        "colab": {
          "base_uri": "https://localhost:8080/",
          "height": 54
        },
        "outputId": "7a079ec8-143e-4807-e73d-96a1853d7ce1"
      },
      "source": [
        "# Tokenizing text into bags of words\n",
        "\n",
        "tokenized_docs = [nltk.word_tokenize(doc) for doc in raw_docs]\n",
        "print(tokenized_docs)"
      ],
      "execution_count": null,
      "outputs": [
        {
          "output_type": "stream",
          "text": [
            "[['Here', 'are', 'some', 'very', 'simple', 'basic', 'sentences', '.'], ['They', 'wo', \"n't\", 'be', 'very', 'interesting', ',', 'I', \"'m\", 'afraid', '.'], ['The', 'point', 'of', 'these', 'examples', 'is', 'to', '_learn', 'how', 'basic', 'text', 'cleaning', 'works_', 'on', '$', '%', '^/*very', 'simple*', 'data', '.']]\n"
          ],
          "name": "stdout"
        }
      ]
    },
    {
      "cell_type": "code",
      "metadata": {
        "id": "KtHQWbBERs4G",
        "colab_type": "code",
        "colab": {
          "base_uri": "https://localhost:8080/",
          "height": 34
        },
        "outputId": "cc03bda5-19d6-4e05-9aba-44f9c4d44214"
      },
      "source": [
        "# Removing punctuation\n",
        "import re\n",
        "import string\n",
        "regex = re.compile('[%s]' % re.escape(string.punctuation)) #see documentation here: http://docs.python.org/2/library/string.html\n",
        "\n",
        "tokenized_docs_no_punctuation = []\n",
        "\n",
        "for review in tokenized_docs:\n",
        "    new_review = []\n",
        "    for token in review:\n",
        "        new_token = regex.sub(u'', token)\n",
        "        if not new_token == u'':\n",
        "            new_review.append(new_token)\n",
        "    \n",
        "    tokenized_docs_no_punctuation.append(new_review)\n",
        "    \n",
        "print(tokenized_docs_no_punctuation)"
      ],
      "execution_count": null,
      "outputs": [
        {
          "output_type": "stream",
          "text": [
            "[['Here', 'are', 'some', 'very', 'simple', 'basic', 'sentences'], ['They', 'wo', 'nt', 'be', 'very', 'interesting', 'I', 'm', 'afraid'], ['The', 'point', 'of', 'these', 'examples', 'is', 'to', 'learn', 'how', 'basic', 'text', 'cleaning', 'works', 'on', 'very', 'simple', 'data']]\n"
          ],
          "name": "stdout"
        }
      ]
    },
    {
      "cell_type": "code",
      "metadata": {
        "id": "QD8wtyYlSpeN",
        "colab_type": "code",
        "colab": {
          "base_uri": "https://localhost:8080/",
          "height": 34
        },
        "outputId": "8a7ae712-8ac0-4ee4-b3ba-30e2a64d8435"
      },
      "source": [
        "# Cleaning text of stopwords\n",
        "from nltk.corpus import stopwords\n",
        "\n",
        "tokenized_docs_no_stopwords = []\n",
        "\n",
        "for doc in tokenized_docs_no_punctuation:\n",
        "    new_term_vector = []\n",
        "    for word in doc:\n",
        "        if not word in stopwords.words('english'):\n",
        "            new_term_vector.append(word)\n",
        "    \n",
        "    tokenized_docs_no_stopwords.append(new_term_vector)\n",
        "\n",
        "print(tokenized_docs_no_stopwords)"
      ],
      "execution_count": null,
      "outputs": [
        {
          "output_type": "stream",
          "text": [
            "[['Here', 'simple', 'basic', 'sentences'], ['They', 'wo', 'nt', 'interesting', 'I', 'afraid'], ['The', 'point', 'examples', 'learn', 'basic', 'text', 'cleaning', 'works', 'simple', 'data']]\n"
          ],
          "name": "stdout"
        }
      ]
    },
    {
      "cell_type": "code",
      "metadata": {
        "id": "POVZ3_d1VoCQ",
        "colab_type": "code",
        "colab": {
          "base_uri": "https://localhost:8080/",
          "height": 34
        },
        "outputId": "4f5c2cdc-6349-4159-a0f6-27b29823949d"
      },
      "source": [
        "\n",
        "# Stemming and Lemmatizing\n",
        "from nltk.stem.porter import PorterStemmer\n",
        "from nltk.stem.snowball import SnowballStemmer\n",
        "from nltk.stem.wordnet import WordNetLemmatizer\n",
        "\n",
        "porter = PorterStemmer()\n",
        "snowball = SnowballStemmer('english')\n",
        "wordnet = WordNetLemmatizer()\n",
        "\n",
        "preprocessed_docs = []\n",
        "\n",
        "for doc in tokenized_docs_no_stopwords:\n",
        "    final_doc = []\n",
        "    for word in doc:\n",
        "        final_doc.append(porter.stem(word))\n",
        "        #final_doc.append(snowball.stem(word))\n",
        "        #final_doc.append(wordnet.lemmatize(word))\n",
        "    \n",
        "    preprocessed_docs.append(final_doc)\n",
        "\n",
        "print(preprocessed_docs)"
      ],
      "execution_count": null,
      "outputs": [
        {
          "output_type": "stream",
          "text": [
            "[['here', 'simpl', 'basic', 'sentenc'], ['they', 'wo', 'nt', 'interest', 'I', 'afraid'], ['the', 'point', 'exampl', 'learn', 'basic', 'text', 'clean', 'work', 'simpl', 'data']]\n"
          ],
          "name": "stdout"
        }
      ]
    },
    {
      "cell_type": "code",
      "metadata": {
        "id": "rZSOhSm1Wz5C",
        "colab_type": "code",
        "colab": {}
      },
      "source": [
        ""
      ],
      "execution_count": null,
      "outputs": []
    },
    {
      "cell_type": "markdown",
      "metadata": {
        "id": "jcgqCJpRPsOI",
        "colab_type": "text"
      },
      "source": [
        "#### Capturing data from plain text"
      ]
    },
    {
      "cell_type": "code",
      "metadata": {
        "id": "1tN9Hm73YVZK",
        "colab_type": "code",
        "colab": {}
      },
      "source": [
        ""
      ],
      "execution_count": null,
      "outputs": []
    },
    {
      "cell_type": "markdown",
      "metadata": {
        "id": "x3TTC_xx3tQ3",
        "colab_type": "text"
      },
      "source": [
        "### Simlpe LDA"
      ]
    },
    {
      "cell_type": "code",
      "metadata": {
        "id": "PPE1aT0T4FC2",
        "colab_type": "code",
        "colab": {}
      },
      "source": [
        "!pip install stop_words"
      ],
      "execution_count": null,
      "outputs": []
    },
    {
      "cell_type": "code",
      "metadata": {
        "id": "WwMTML-K3xpl",
        "colab_type": "code",
        "colab": {}
      },
      "source": [
        "from nltk.tokenize import RegexpTokenizer\n",
        "from stop_words import get_stop_words\n",
        "from nltk.stem import PorterStemmer\n",
        "from gensim import corpora, models\n",
        "import gensim"
      ],
      "execution_count": null,
      "outputs": []
    },
    {
      "cell_type": "code",
      "metadata": {
        "id": "5EMUPkpU45bJ",
        "colab_type": "code",
        "colab": {}
      },
      "source": [
        "\n",
        "tokenizer = RegexpTokenizer(r'\\w+')"
      ],
      "execution_count": null,
      "outputs": []
    },
    {
      "cell_type": "code",
      "metadata": {
        "id": "wlH_0gWL5Blt",
        "colab_type": "code",
        "colab": {}
      },
      "source": [
        "# create English stop words list\n",
        "en_stop = get_stop_words('en')"
      ],
      "execution_count": null,
      "outputs": []
    },
    {
      "cell_type": "code",
      "metadata": {
        "id": "MA79jINE5F0d",
        "colab_type": "code",
        "colab": {}
      },
      "source": [
        "# Create p_stemmer of class PorterStemmer\n",
        "p_stemmer = PorterStemmer()"
      ],
      "execution_count": null,
      "outputs": []
    },
    {
      "cell_type": "code",
      "metadata": {
        "id": "jjCCUCCn6wxs",
        "colab_type": "code",
        "colab": {}
      },
      "source": [
        "from bs4 import BeautifulSoup"
      ],
      "execution_count": null,
      "outputs": []
    },
    {
      "cell_type": "code",
      "metadata": {
        "id": "3ocHQ6PW6yOZ",
        "colab_type": "code",
        "colab": {}
      },
      "source": [
        "industry_urls = [\n",
        "    'https://www.altair.com/aerospace/',\n",
        "    'https://www.altair.com/agriculture-construction/',\n",
        "    'https://www.altair.com/automotive/',\n",
        "    'https://www.altair.com/civil-engineering/',\n",
        "    'https://www.altair.com/consumer-goods/',\n",
        "    'https://www.altair.com/electronics/',\n",
        "    'https://www.altair.com/energy/',\n",
        "    'https://www.altair.com/financial-services/',\n",
        "    'https://www.altair.com/government-agencies/',\n",
        "    'https://www.altair.com/healthcare/',\n",
        "    'https://www.altair.com/marine/',\n",
        "    'https://www.altair.com/process-manufacturing/',\n",
        "    'https://www.altair.com/rail/',\n",
        "    'https://www.altair.com/retail/',\n",
        "    'https://www.altair.com/weather-climate/'\n",
        "]"
      ],
      "execution_count": null,
      "outputs": []
    },
    {
      "cell_type": "code",
      "metadata": {
        "id": "29oQAIZT7Jjf",
        "colab_type": "code",
        "colab": {}
      },
      "source": [
        "from tqdm.notebook import tqdm\n",
        "import requests\n",
        "import pickle"
      ],
      "execution_count": null,
      "outputs": []
    },
    {
      "cell_type": "code",
      "metadata": {
        "id": "Wf4aLyot7ntK",
        "colab_type": "code",
        "colab": {}
      },
      "source": [
        "def extract_text(urls):\n",
        "    \"\"\"Function to extract text from Altair's website pages.\"\"\"\n",
        "    \n",
        "    texts = []\n",
        "    for url in tqdm(urls, total=len(urls)):\n",
        "        \n",
        "        # get request\n",
        "        page = requests.get(url)\n",
        "\n",
        "        # extract content\n",
        "        soup = BeautifulSoup(page.content, 'html.parser')\n",
        "        \n",
        "        # extrate title\n",
        "        text = ''\n",
        "        for content in soup.find_all('section', id='MainContent_intro'):\n",
        "            text += content.text\n",
        "\n",
        "        # extract body cards\n",
        "        for card in soup.find_all('div', class_='article-cards'):\n",
        "            for article in card.find_all('article'):\n",
        "                text += article.text\n",
        "        for row in soup.find_all('div', class_=\"row__large-6 staggered-content__text\"):\n",
        "            text += row.h2.text\n",
        "            text += row.p.text\n",
        "\n",
        "        texts.append(text)\n",
        "        \n",
        "    return texts"
      ],
      "execution_count": null,
      "outputs": []
    },
    {
      "cell_type": "code",
      "metadata": {
        "id": "j5cxVc056_JQ",
        "colab_type": "code",
        "colab": {
          "base_uri": "https://localhost:8080/",
          "height": 66,
          "referenced_widgets": [
            "578f25598b85478aa6f0fe450f8a3e72",
            "a15ffca56b754e6f92beb58f2c05fd94",
            "9f12c4167f1944029d511078323a9abe",
            "1e64e2a9b2254ce3b46bea177717500f",
            "e7d8d5ef871b437390b7bfec99c662fd",
            "7c1ecfaa832f4b71b81e496bce64db70",
            "fc9c06fc4a364d1784e4726b16a356df",
            "9fa00c82d8fb45779b6e38a774ba827d"
          ]
        },
        "outputId": "476a663e-6830-420f-9cd2-19c0317d1c2c"
      },
      "source": [
        "industry_texts = extract_text(industry_urls)"
      ],
      "execution_count": null,
      "outputs": [
        {
          "output_type": "display_data",
          "data": {
            "application/vnd.jupyter.widget-view+json": {
              "model_id": "578f25598b85478aa6f0fe450f8a3e72",
              "version_minor": 0,
              "version_major": 2
            },
            "text/plain": [
              "HBox(children=(FloatProgress(value=0.0, max=15.0), HTML(value='')))"
            ]
          },
          "metadata": {
            "tags": []
          }
        },
        {
          "output_type": "stream",
          "text": [
            "\n"
          ],
          "name": "stdout"
        }
      ]
    },
    {
      "cell_type": "code",
      "metadata": {
        "id": "gRdLuFEw8DWF",
        "colab_type": "code",
        "colab": {}
      },
      "source": [
        "industry_texts"
      ],
      "execution_count": null,
      "outputs": []
    },
    {
      "cell_type": "code",
      "metadata": {
        "id": "T0uWWxlJ8CN0",
        "colab_type": "code",
        "colab": {}
      },
      "source": [
        "with open('industry_texts.pickle', 'wb') as file:\n",
        "    pickle.dump(industry_texts, file)"
      ],
      "execution_count": null,
      "outputs": []
    },
    {
      "cell_type": "code",
      "metadata": {
        "id": "dZfTDCWG8YZ_",
        "colab_type": "code",
        "colab": {}
      },
      "source": [
        "with open('industry_texts.pickle', 'rb') as file:\n",
        "    industry_texts = pickle.load(file)"
      ],
      "execution_count": null,
      "outputs": []
    },
    {
      "cell_type": "code",
      "metadata": {
        "id": "F4moP7ua8hZK",
        "colab_type": "code",
        "colab": {
          "base_uri": "https://localhost:8080/",
          "height": 292
        },
        "outputId": "eeb038c2-fefb-48d0-8d2b-2f731e8839e7"
      },
      "source": [
        "industry_texts"
      ],
      "execution_count": null,
      "outputs": [
        {
          "output_type": "execute_result",
          "data": {
            "text/plain": [
              "['\\n\\n\\r\\n                Aerospace\\r\\n            \\nAerospace belongs to explorers. We have been instrumental in pioneering the establishment of optimization centers at major aerospace OEMs. Our simulation technologies develop complex, high-fidelity finite-element models for the predictive virtual testing of airframes, engines, and aircraft interiors. We accurately simulate impact damage and correlate against vulnerability events. Now, new methods fuse with old for entirely new processes that take us further than ever into the beyond.\\n\\n\\n\\n\\n\\n\\nDesign for the Future\\nFor years the predominant pre-processor and solver for aircraft structural analysis were technologies with roots dating back to the Apollo program. During the past decade, the increased adoption of topology optimization in the aerospace industry created a shift. Now, modern solution-specific workflows are changing the user experience for pre-processing and bringing increased efficiency to the certification by analysis process.\\n\\n\\n\\n\\n\\n\\nIncrease Engineering Agility\\nAerospace organizations are seeking to empower design engineers not only to design, but to analyze, and certify parts to reduce development times with simulation. This is motivating the development of a new type of tool, which provides an environment for analysis, optimization, manufacturing checks, and geometry editing; supporting fast design iterations and decision making.\\n\\n\\n\\n\\n\\n\\nStreamline Concept Decision Making\\nIncreased adoption of data analytics will shape the way early program decisions are made. Applying statistical methods, such as dimensionality reduction to a large number of design variables, will help identify a subset of critical performance criteria. The essential measures can then be considered during early studies, using advanced physics simulations to identify the most promising design concepts.\\n\\nMoving to Certification by AnalysisModern tools: Aircraft manufacturers and suppliers are striving to speed up the aircraft certification process, which is primarily based on physical tests. Many efforts for achieving certification by analysis have been constrained by legacy analysis tools and processes. The intuitive user experience and integrated solution workflows of Altair HyperMesh™ are bringing increased efficiency to the certification by analysis processes across the industry. Simulation-driven design tools, including Altair OptiStruct™ topology optimization, are growing in adoption.Advanced Simulation and AnalysisComposite Design: OptiStruct® is widely used for the design and optimization of laminate composites. It delivers optimal ply shapes, the optimal number of plies, and the optimal stacking sequence, while observing manufacturing constraints. Altair Multiscale Designer™ provides accurate and efficient simulation of materials and parts manufactured with continuous and chopped fibers, honeycomb cores, lattice structures, and more.Understanding System InteractionsMultiphysics Simulation: Altair provides multiphysics-enabled software to enable a wide range of interacting physical models to fully describe a system’s mechanical, electromagnetic, and aerodynamic performance. For example, the air pressure field during flight on a radome can be simulated with Altair AcuSolve™, a computational fluid dynamics (CFD) solver. The pressures can then be mapped onto an OptiStruct model to accurately predict the structural response of the radome under aerodynamic load.',\n",
              " '\\n\\n\\r\\n                Agriculture and Construction\\r\\n            \\nThese are the big jobs. Highways. Farmland. Bridges. Factories. The large-scale projects that require great precision and heavier loads in extreme environments. But we can help. With Altair’s simulation-driven design approach, you can create reliable products of the highest quality, while reducing costs and product cycle time. Simulation allows rapid investigation and analysis of product performance, factoring in fatigue and impact loads, and offering countermeasures for improvement. Whether farmland or highway or construction site, we’ll help you carry the load.\\n\\n\\n\\n\\n\\n\\nEfficient Development and Operation\\nAltair’s simulation-driven design tools enable off-highway equipment manufacturers to make informed, reliable product design decisions faster. Engineering simulation and Internet of Things (IoT) technology are being used together to provide operational insights with physics-driven and data-driven digital twins to optimize equipment performance, gain operational insights and reduce operational costs. Altair is positioned at the convergence of simulation, data acquisition, data analytics and machine learning to realize greater fleet autonomy.\\n\\n\\n\\n\\n\\n\\nAchieving Sustainability Through Lightweighting and Electrification\\nIn an industry dominated by large cast components lightweighting opportunities for topology optimization are many. Altair’s structural design optimization technology is industry proven to drive down vehicle weight and improve performance. Altair simulation is key to equipment electrification; extending working hours through greater drivetrain efficiency, simulating innovative cooling implementations, and mitigating impact and shock events that could cause a battery failure and potentially a fire.\\n\\nMaximize Equipment Productivity, Reliability, Safety, and ComfortSpeed and Efficiency: Heavy equipment manufacturers are using simulation tools early in the development process to maximize productivity, reliability, safety and comfort. Altair MotionSolve™ multi-body simulation enables the modeling the dynamic response of mechanisms. Together with Altair EDEM™, customers can optimize designs before building a prototype to quickly and accurately simulate the behavior of bulk materials such as as coal, mined ores, soils, fibers, and grains.Sustainable, Connected, and Smarter ProductionElectric Drivetrains: The move towards hybrid and full electric powertrain systems provides manufacturers with business challenges and opportunities. Bringing electric equipment development cycles into alignment with traditional program timelines requires changes to engineering team structures and toolsets. Powertrains must be highly efficient and lightweight, while meeting new regulations and growing customer expectations. Learn more about our specific offerings for electric powertrain development and integration, simulation for battery design and safety.',\n",
              " '\\n\\n\\r\\n                Automotive\\r\\n            \\nThe automotive industry is evolving at an unprecedented pace; a transformation driven by simulation. As a product development partner to the world’s largest OEMs and suppliers, we work to accelerate product development, enhance passenger safety and experience, all while optimizing vehicle fuel economy and durability. Our technologies are changing the way vehicles of all types are designed.\\n\\n\\n\\n\\n\\n\\nA Common Simulation Language\\nWith overnight aerodynamic simulations, engineers can drive performance improvements without sacrificing design styling. By reviewing studio innovations daily, engineers can explain how a design shapes air flow and designers are able to resolve issues on time and with style. \\n\\n\\n\\n\\n\\n\\nCloud Bursting Boosts Vehicle Development Programs\\nOn-demand, high-performance computing (HPC) presents the opportunity to securely scale simulation capabilities during peak demand, satisfying the need for detailed, multi-disciplinary optimization studies on multiple programs to reduce development costs and risk.\\n\\n\\n\\n\\n\\n\\nData Analytics Shapes Early Vehicle Design Decisions\\nIdentify the most promising concepts and critical subsets of performance criteria earlier in design exploration and by applying statistical methods for dimensionality reduction on the huge number of design variables considered during a vehicle program.\\n\\nAccelerate Product DevelopmentCreate robust architectures during pre-program: The Altair Concept 1-2-3 (C123) design process enables designers to confidently create innovative, next-generation architectures by using simulation to inform vehicle architecture, manufacturing processes, material selection, and platform strategies. A Safer, More Comfortable Driving ExperienceIncrease passenger protection: In the age of autonomy and car sharing, new seating positions demand a fresh investigation of passenger safety using Altair Radioss™, an industry standard for automotive crash, impact, and airbag simulations. Altair MotionSolve™ helps chassis systems achieve vehicle dynamics targets and ensure safe maneuverability. With Altair Feko™, vehicle connectivity and electromagnetic compatibility (EMC), which are essential to today’s vehicles, can be verified.Improved Fuel Efficiency and DurabilityBetter tools for fuel efficiency: Automakers need a multipronged approach to achieve fuel efficiency, lighter structures, and aerodynamics performance. Altair OptiStruct helps designers and engineers do just that, all while reducing costs and maintaining performance. Altair ultraFluidX  improves external aerodynamic performance by applying GPU hardware to speed their decision making.Automotive’s Only Award Dedicated to Vehicle LightweightingWe have a deep commitment to vehicle efficiency, so much so that we have established the automotive industry’s only award dedicated to vehicle lightweighting. The Altair Enlighten Award honors the greatest achievements in vehicle weight savings each year. It inspires interest from business leaders, engineers, policymakers, educators, students and the public, stirring competition for new ideas and providing an incentive to share advances.',\n",
              " '\\n\\n\\r\\n                Civil Engineering\\r\\n            \\nSuper-tall buildings, façades systems, façade manufacturing, free form structures and protective designs – The challenges of designing and building the world’s most daring and innovative structures can be solved using Altair technology to create beautiful, functional and lasting designs. Civil engineers gain insight throughout the development process to rapidly evolve designs, control costs and ensure structures are safe and feasible. Architectural teams can unleash their creativity and see their concepts validated quicker and with fewer design iterations, while structural teams enhance their design process with automatic optimization workflows to achieve maximal performance. Simulation tools help model and accurately predict the unique behavior of advanced composite materials and optimize their shape and manufacturability to meet performance and cost criteria.\\n\\n\\n\\n\\n\\n\\nOptimization Inspired by Nature\\nFinding more efficient shapes, reducing material and weight, and increasing stability is vital to civil engineers. To meet these challenges, designers and engineers leverage topology optimization. This process follows the patterns of material growth in biological forms to eliminating material redundancies within prescribed performance targets and create optimized structures. Size optimization is a critical component, deployed within 1D models to optimize beams and columns.\\n\\n\\n\\n\\n\\n\\nUnleashing the Power of Digital Wind\\nWhen building the world’s largest skyscrapers and high-rises, it is imperative to consider the impact of wind pressures on the structure and on pedestrian comfort. Virtual wind tunnel testing is now globally recognized as a mature technology that produces accurate modeling of wind pressures, delivers rapid results, and enables designers to explore and evolve concepts based on CFD insights.\\n\\n\\n\\n\\n\\n\\nResilience Against Blast Events\\nFor more than 30 years, Altair has established itself as a leader and industry standard for blast and explosion effects and high velocity impacts for risk mitigation. These tools enable civil and material engineers to simulate these events, predict damage, identify structural vulnerabilities, and optimize the design for maximum structural integrity under extreme loads. Faster and cheaper than destructive tests, engineers gain valuable insights yielding the design of safer structures.\\n\\nPractice High-performance DesignAltair has developed a multi-disciplinary optimization workflow that allows clients to understand structural performance sooner, accelerate design cycles to reduce cost, and virtually validate designs to reduce risk. High-performance design is a holistic approach for developing feasible, safe and robust structures with a simulation-driven approach.Fast Alternative Design with Mesh-free SolverArchitecture, Engineering, Construction (AEC) design cycles have two crucial requirements: product performance and timely delivery. Due to immense project pressures, there is often insufficient time to investigate design alternatives or new solution. Altair SimSolid™ is a technological breakthrough that allows civil engineers to analyze fully featured CAD assemblies in minutes, eliminating geometry simplification and meshing. These insights allow engineers to foresee better alternatives in large structural models and rapidly evolve designs within existing project timelines. With SimSolid, design teams can perform multiple iterations of their most complex parts and explore multiple alternatives of large assemblies at blazing speed.Aerodynamic Insight from Design to ValidationComputational fluid dynamics (CFD) has become a powerful tool deployed throughout the AEC design workflow. For designers, concept-stage aerodynamic simulation helps shape designs to uphold the client’s vision while adhering to downstream performance targets.Façade Engineering and ManufacturingThe design of modern façade systems requires a multi-disciplinary approach, supporting all key aspects of façade engineering; structural engineering, thermal analysis, manufacturing and protective design.',\n",
              " \"\\n\\n\\r\\n                Consumer Goods\\r\\n            \\nWhat makes consumers loyal to a product? There are many factors ranging from sensory perception to quality and durability, and now more than ever, the sustainability of the product and its impact on the planet. Consumers use the same factors to judge all products no matter if it’s a dishwasher, athletic shoes, or mobile phones. Altair’s broad portfolio of solvers helps in every step of design.\\n\\n\\n\\n\\n\\n\\nEnhancing Product Design with Multiphysics\\nConsumer products of all kinds must be designed to withstand the structural and operational requirements associated with normal use, drop, and misuse, all while balancing weight and cost considerations. Altair solutions enable simulation of structural, thermal, and fluid properties, vibration, electromagnetics, and manufacturing constraints in an integrated multiphysics environment.\\n\\n\\n\\n\\n\\n\\nIoT-enabled Connected Devices\\nSimulation is required to design and integrate sensors and antennas for a wide range of connected wearable devices. Tools for antenna design and placement ensure signal reliability and compatibility, while Internet of Things (IoT) software is deployed to collect data gathered by the device’s sensors and transfer it to manufacturers for remote maintenance and product life improvement insights.\\n\\n\\n\\n\\n\\n\\nProduct Validation Shortens Time-to-Market\\nManufacturers dedicate large amounts of time and expense to physical prototyping to validate product performance. Simulation can dramatically speed up time-to-market by enabling the testing of multiple design concepts and variables virtually. Multiple variants can be efficiently tested at a massive scale without physical testing and repeated redesign iterations. Replacing even one prototyping cycle with simulation could mean getting products to the market months faster than the competition.\\n\\nFrom Conceptual Design to RealityConsumer products are all about the user experience. Whether it is the initial impression of the packaging and shelf appeal, to the user interaction and interface, Altair can help. Altair Inspire Studio allows industrial designers to develop products faster, facilitating initial sketching and exploration of styling alternatives, as well as development of photo-realistic renderings. With organic surface modeling and parametric control, and a unique construction tree history feature, designers can focus on their ideas instead of struggling with the design technology.HPC Driving Product InnovationThe consumer goods industry is fast paced and highly competitive, with designs becoming increasingly complex while the timeline for production shrinks. Companies must innovate and develop new products quickly to retain and attract new customers. To keep up with the pace of today's innovation, manufacturers needs to get faster insights on their most complex simulation and optimization jobs. Altair’s high-performance computing and cloud tools enable users to easily set up, submit, and monitor large simulation and optimization jobs on local or cloud compute resources.Innovative Engineering for Sporting Goods PerformanceSporting goods manufacturers are often at the forefront of the use of advanced materials to drive peak performance. Designers of tennis rackets, hockey sticks, racing bicycles, and more take advantage of simulation, automation, and optimization to reduce design cycle time and enhance product value. Altair helps them to model the behavior of advanced composite materials and accurately map simulation data to test results to validate designs.Packaging Optimization Cuts Cost and Development TimeMany economical gains can be made also by improving the processing and packaging needed for consumer products. Altair has the experience and expertise to simulate and tune manufacturing processes for optimal performance and cost as well as optimize product packaging for protection against shipping and abuse conditions.\",\n",
              " '\\n\\n\\r\\n                Electronics\\r\\n            \\nElectronics are a part of our lives – both professionally and personally – with the latest gadgets delivering an immediate gateway to the world. Innovation, time to market and lower cost are the keys to electronics success, and the pressures to quickly deliver innovative products at lower cost is intense. Altair’s simulation-driven design delivers a smarter approach to electronics product development.\\n\\n\\n\\n\\n\\n\\nShorten Time to Market\\nManufacturers dedicate large amounts of time and expense to physical prototyping in order to validate product performance. Simulation can dramatically speed up time-to-market by enabling the testing of multiple design concepts and variables virtually. Multiple variants can be efficiently tested at a massive scale without physical testing and repeated redesign iterations. Replacing even one prototyping cycle with simulation could mean getting products to the market months faster than the competition.\\n\\n\\n\\n\\n\\n\\nBuild Smarter Products\\nNew product lines, recurring revenue streams, more efficient operations, higher quality and faster time to market are all within reach with Internet of Things (IoT) from Altair. We have the knowledge and technology to help you realize your smart product development vision from beginning to end – from ideation to optimization to launch and operation.\\n\\n\\n\\n\\n\\n\\nEnhance Product Design\\nElectronic devices of all kinds must be designed to withstand the structural and operational requirements associated with normal use, drop and misuse, all while balancing weight and cost considerations. Altair solutions enable simulation of structural, thermal and fluid properties, vibration, electromagnetics and manufacturing constraints in an integrated multiphysics environment.\\n\\nDelivering FunctionalityPCB Design:  Altair PollEx™ is the most comprehensive and integrated set of PCB design viewing, analysis and verification tools for electrical, electronics and manufacturing engineers. PollEx transfers data flawlessly between the industry’s most popular ECAD and simulation tools and enables many of the world’s major electronics corporations to quickly visualize and review PCB designs. Its checking tools detect issues early to avoid product failures, and simplify manufacturing and assembly.Supercharging Semiconductor DesignTrusted for semiconductor design and EDA, Altair’s optimization suite for high-throughput computing environments helps you arrive at the perfect design faster. Altair Accelerator™ is the industry’s fastest enterprise job scheduler with scalable, event-driven architecture for the highest throughput. Accelerator maximizes capacity utilization and can run millions of jobs per day with sub-millisecond latency. Altair Allocator™ takes you global, providing seamless scheduling across geographies and business units.  To identify the dependencies and inherent parallelism built into today’s complex design flows, Altair FlowTracer™ uses a unique tracing technique to map and execute flows so you can design around roadblocks. And, to maximize utilization and right-size software investments, Altair Monitor™ provides real-time insight into software license availability, usage, job status, and more.Delighting CustomersFrom Conceptual Design to Reality: Altair’s industrial design services can help customers with everything from user research to branding to design and prototyping. Altair Inspire Studio software enhances creativity. Users can combine different modeling techniques to effortlessly create and explore even the most challenging designs.',\n",
              " \"\\n\\n\\r\\n                Energy\\r\\n            \\nThe global demand for energy continues to increase and the diversity of sources is growing. We are helping customers explore sustainable generation, achieve efficient distribution, maintain reliable power grids, and transform the market with Internet of Things (IoT). Whether in oil and gas, coal, renewable energy, nuclear power, or distribution, our customers use Altair to simulate everything from geomechanics to composite wind turbine blades and analyze structural safety to network loads. \\n\\n\\n\\n\\n\\n\\nReliable in the Real World\\nDeveloping economies are undertaking more government-funded projects with a focus on rural electrification to meet the demands of increasing power access, urbanization, and rapid industrialization. Designing the efficient and sustainable energy generation equipment required is supported by Altair analysis and optimization. Ensuring reliability under real world conditions requires exploration of variables with trusted physics simulations. \\n\\n\\n\\n\\n\\n\\nA Clear Path to Sustainability\\nExisting utilities are on a path to sustainability, working to replace and upgrade their existing infrastructure with an increasing focus on renewable energy. Altair's simulation and optimization technologies support this growing trend. Our core competencies include turbine vortex simulation and prediction, acoustic interpretation and assessment, wind farm siting, composite blade analysis and optimization, and transmission dynamics simulation and optimization.\\n\\n\\n\\n\\n\\n\\nA Smart Digital Transformation\\nThe digital transformation of electricity uses IoT and smart grid technology to improve customer experiences and ensure safety and compliance. Altair provides real-time streaming analytics designed to handle energy industry requirements. Our technology supports the critical functions required to analyze and monitor the vast amounts of data generated in energy production and utilities applications. \\n\\nOptimize Energy Production and DistributionAltair Panopticon™ enables operators to process, monitor, analyze, and visualize the massive amounts of data streaming in from sensors and other devices in real time, so network loads can be distributed based on real-time feedback from the grid. It combines real-time streams with historical data, including time-series data stored in high-performance columnar databases, to make on-the-fly comparisons with previous activity and develop a comprehensive view of operations.Increase Network EfficiencyAltair Flux™ is used by power engineers to design their networks from generation to consumer. The advanced electromagnetic, electric, and thermal simulation capabilities allow them to optimize the energy efficiency of power generation and energy storage systems. It provides valuable insights for all transmission and distribution components, including power transformers, cables, electric switchboards, switchgears, contactors, relays, sensors, and switches.Ensure Reliability and Robustness with MultiphysicsAltair’s structural simulation software portfolio offers industry-leading engineering analysis and optimization tools for simulation-driven design concepts, detailed virtual product validation, and everything in between. Altair solvers can be coupled to model the energy industry’s multiphysics problems. Our high-performance computing and cloud technologies ensure customers can keep up with the pace of today's innovation, and scale to support the biggest challenges.Streamline Aerodynamics and ThermalAltair AcuSolve™ is a general-purpose computational fluid dynamics (CFD) solver which is popular with wind turbine companies. Applications include full blade and rotor performance, including blade flutter, rotor-tower interaction, and placement optimization. AcuSolve® avoids typical CFD pre-processing bottlenecks and enables engineers to focus on exploring their designs. AcuSolve's powerful solver technology provides you with the most robust solution in the CFD marketplace. GE Flow Simulator, exclusively distributed by Altair, provides analyses essential to the gas turbine design process.\",\n",
              " '\\n\\n\\r\\n                Financial Services\\r\\n            \\nAltair’s 30-year history working with financial service organizations including many of the largest global banks, credit unions, and mortgage service providers means we understand how analytics can help you in the areas of risk mitigation, regulatory oversights, new customer engagement channels, operational insight, and more. Our easy to use, no code data transformation, machine learning, and real-time data visualization and stream processing platform enables executives, financial analysts, and data scientists to collaboratively use insight using governed, trusted, and accurate data.\\n\\n\\n\\n\\n\\n\\nReconciliation\\nLeverage automated workflows that minimizes human interaction across the enterprise and automates bank reconciliation tasks.  Consolidate thousands of reports and spreadsheets, standardize reporting formats and improve forecasting.  Seamless integration with robotic processing automation (RPA) helps financial services drive out inefficiencies from back office operations and reduces costs.\\n\\n\\n\\n\\n\\n\\nLending Lifecycle\\nStreamline the lending lifecycle and mitigate risk.  Altair’s experience in loan on-boarding, scorecards for origination, loan portfolio and servicing, collections optimization, and changes to credit lines are but the many areas in which a single analytics platform is used by many of the world’s banks and credit unions.\\n\\n\\n\\n\\n\\n\\nElectronic Trading\\nAnalyze market conditions and trading activity to make smart timing and execution decisions.  Identify cases of potential spoofing, quote stuffing, wash trading, and other fraudulent activity. Score traders based on the risk they take on and compare their current performance to past performance. Analyze real-time and historical data to view all trading activity and prevent fraud.\\n\\nDetect Fraudulent ActivitiesRaw data arriving in PDF or text-based reports from clients and 3rd party systems can create confusion due to double-payments, cash or billing schemes, or other types of corporate fraud. Altair data preparation solutions can automate the extraction and transformation of data from these data formats and apply advanced fraud detection techniques such as Benford’s Law or the Gestalt tests. Easily generate and deploy business rules using Altair predictive analytics to trigger against probable fraudulent activities. Altair’s deep learning is very efficient at modeling complex relationships between inputs, outputs, and finding fraudulent patterns in large amounts of data.Credit OriginationFinancial services struggle to model risk accurately, transparently, and in regulatory compliance. This can be especially challenging when trying to determine who might expose risk to the business when offering lines of credit to existing or new applicants. With Altair, the ability to score applicants of risk-based products or creating a predictive scoring of credit line increase or authorization requests can help financial service organizations better understand who might be at greater risk to default on credit loans. With this knowledge better collection approaches and deployment strategies for clients in arrears can be leveraged.Financial Marketing AnalyticsMarketing teams are often challenged to predict how customers will respond to their campaigns. Several distinct and vastly different datasets are required to tailor a successful marketing campaign that may focus on product cross-sell and upsell or on new customer acquisition. Altair removes the complexity of developing a marketing analytics campaign by automating and repeating processes used in machine learning models designed to show the probability of success. Testing scenarios against changes in controllable and uncontrollable variables enables marketing campaigns to deploy a strategy that reaches the right audience, with the right message, using the right channel.Electronic TradingDelays in decision making are costly in electronic trading – whether you’re dealing with equities, fixed income, FX, futures, or commodities. Waiting for end-of-day reports means you’re likely to miss profitable opportunities or fail to respond to threats to compliance until it’s much too late. Altair gives traders, quants, and compliance officers the tools they need to build and deploy their own real-time monitoring and analysis systems without writing any code. The Altair platform supports the specific requirements of high frequency trading desks and allows them to react immediately to fast moving market events.',\n",
              " '\\n\\n\\r\\n                Government Agencies\\r\\n            \\nGovernment and academic organizations around the world depend on technology to drive critical programs including research, administration, and national security. Altair gives institutions the tools they need to make it all possible.\\n\\nFaster, More Accurate Financial and Human Resources OperationsAccurate bookkeeping is especially important for the government, where budgets are highly monitored and regulated. With Altair data analytics solutions, manual general ledger and payroll reconciliations turn into an automated, accurate process that can be completed in seconds, freeing government and educational institutions to save money and focus on serving communities.Ensure Military Resources are Always Mission-readyHaving confidence that military equipment is safe and reliable requires close attention to proactive equipment maintenance schedules. With Altair data analytics solutions, Military Maintenance Groups can more effectively monitor equipment by combining data from different systems to identify which equipment is due for scheduled maintenance and which individuals are due for training.Restore Focus on Student SuccessSystems, like BANNER and College, generate unusable text-based reports that cannot be easily reconciled with financial system reports. With Altair data analytics solutions, ERP reports are instantly converted into rows-and-columns and reconciled with updated student account information, freeing institutions to spend less time worrying about maintaining accurate financial records and more time focusing on student success.HPC for Government and EducationGovernment and academic organizations have long been leading drivers of high-performance computing (HPC), running and developing compute-intensive applications in fields including weather forecasting, space exploration, scientific discovery, and aeronautics research — and researchers are pushing the boundaries of knowledge at leading institutions around the world. HPC technology continues to become more complex as it evolves, and tools to manage that complexity are a requirement. Many universities and government organizations power their workload management with the Altair PBS Works™ suite, and Altair PBS Professional™ is the de-facto standard for managing HPC resources at datacenters all over the planet.',\n",
              " '\\n\\n\\r\\n                Healthcare\\r\\n            \\nSimulation can be the key to understanding complex issues, unlocking medical breakthroughs, and getting the latest advancements to the public faster, safer, and making them more broadly accessible. Altair helps medical companies across the world design better products, improve patient care, and reduce costs with simulation-driven design. Our simulation and optimization tools enable device designers and manufacturers to deliver quality and reliability while meeting regulatory standards, and our data analytics technologies empower healthcare providers to make faster, more informed decisions.\\n\\n\\n\\n\\n\\n\\nReducing Clinical Trials\\nDevice manufacturers are required to dedicate large amounts of time and expense to clinical tests to validate safety and performance claims. Simulation can speed up these trials by satisfying the testing of variables virtually. Multiple variants can be efficiently tested at a massive scale without human or animal testing. Replacing even one variable with simulation could mean saving months of testing time and help get products to the market faster than the competition.\\n\\n\\n\\n\\n\\n\\nEnhancing Device Design\\nMedical and wellness devices must be designed to withstand the structural and operational requirements associated with normal use, sterilization and misuse, all while balancing weight and cost considerations. Market demands for increased functionality, connectivity and miniaturization mean that all devices can benefit from the simulation of multiple physics, enabling optimization for all structural, thermal, electrical, electromagnetic and manufacturing criteria.\\n\\n\\n\\n\\n\\n\\nSafety in a Connected Environment\\nEnsuring safe electromagnetic operating conditions is vital as medical products become more connected. It is required that all devices meet radio frequency (RF) exposure standards to avoid adverse health effects. Computer simulations can carry out radiation performance evaluations that consider not just user position, posture, gender, age and height but the power, frequency and interaction of multiple devices.\\n\\nOrthopedic Implants and Replacement StructuresFor more than 25 years, Altair OptiStruct™ has been the industry leader in developing and applying optimization technology for strong, lightweight designs. Developed to mimic how mechanical stresses influence optimal bone growth, it is now used to model complex biological structures and design optimized orthopedic structures. This includes lattice-designed, 3D printed components, ideal for osseointegration and promoting vascularization.Prosthetics and Orthotics DesignMelding Optimization with Advanced ManufacturingSimulating the Complex Physics of the Human BodyWhether it’s importing external or internal patient scan data, HyperMesh® has been a critical tool used by clinicians and engineers to accurately model the complex geometry of the human body. Once established, this model can then be exercised by a variety of Altair physics solvers and optimization methods to study bodily function and develop ways to improve patient care. For example, using shape optimization and elasto-plastic simulation, Altair can model complex biological systems such as the delicate structural behavior of intravascular stents within blood vessels. Vascular deformation and blood flow analyses can be performed to understand, predict, and prevent disorders. Altair Healthcare AnalyticsIn a rapidly shifting and complex industry, understanding the impact of the growing volume and digitization of patient, physician, regulatory, and financial data is crucial to healthcare organizations across the globe. Altair empowers providers, payers, and biopharma to make faster, more informed decisions by transforming disparate data and employing machine learning to maintain costs, improve clinical and financial efficiencies, manage resources and supply chains, and deliver better access to quality patient care.',\n",
              " '\\n\\n\\r\\n                Marine\\r\\n            \\nFrom the design and manufacture of small recreational crafts and large oil tankers to the most technologically advanced aircraft carriers, Altair has assisted the world’s leading shipbuilders and boat designers to develop higher performing, safer and lower cost vessels through the application of simulation technology. Altair helps naval architects address complex engineering challenges and mitigate environmental risks associated with seagoing loads including structural, hydro, dynamic, thermal and fatigue, as well as above surface and underwater weapon threats for the military and homeland security.\\n\\n\\n\\n\\n\\n\\nSimulation for Safer Sailing\\nSimulation assists the engineering of safer marine vessels and robust offshore structures with modeling of collision, sloshing, slamming, underwater explosive, structural strength assessment, vibration, noise performance, heat and cooling analyses, as well as antenna design. It is important to ensure designs meet industry classification and society regulations, capture knowledge and increase development efficiency through customization and automation technologies and expertise.\\n\\n\\n\\n\\n\\n\\nReduce Total Ownership Cost\\nIncreased global competition requires a faster and more efficient ship design and certification process to shorten the turnaround time and reduce cost. To stay competitive in the global marketplace, shipbuilders are looking for ways to reduce production and lifecycle maintenance costs. Increase design efficiency and minimize material usage to reduce manufacturing and operational cost, all while increasing fuel efficiency with Altair’s leading structural and computation fluid dynamics (CFD) optimization technologies.\\n\\nTools for Naval ArchitectsRobust Commercial Ships: Altair OptiStruct™, a modern and more accurate alternative to NASTRAN, can resolve all the typical problems in strength, stress, vibration and noise, buckling, fatigue and thermal analysis. Building upon the solver capabilities of OptiStruct®, Altair HyperLife™ provides a comprehensive and easy to use durability analysis workflow directly interfacing with major finite element analysis result files. OptiStruct is the original topology optimization  structural design tool.Tailored Solutions Custom Software: Tailored and automated simulation workflow processes for evaluating specific requirements and events can accelerate a more robust engineering process for shipbuilders. Altair’s Product Engineer Services  team has extensive experience working with top shipyards and classification societies to assist them in developing packaged solution offerings, integrating both commercial and proprietary tools, to consistently evaluate and streamline certification processes.',\n",
              " '\\n\\n\\r\\n                Process Manufacturing\\r\\n            \\nAny industry that produces bulk quantities of goods, including pharmaceuticals, food, chemicals, or cosmetics is seeking to improve product quality and get their products to market quicker. Simulation is increasingly used by engineers and scientists during research, development, and through to process improvement to achieve these goals. The use of computer-aided engineering (CAE) tools reduces development time and dependence on costly physical prototyping and testing.\\n\\n\\n\\n\\n\\n\\nIncrease Process Efficiency \\nThe use of computer simulation in the process manufacturing industries can help improve understanding of processes and provide key insight into operations otherwise difficult or sometimes impossible to obtain. This can result in increased process efficiency and help drive product and process innovation.\\n\\n\\n\\n\\n\\n\\nImprove Product Quality\\nNumerical simulation provides the means to control product consistency and quality. It can help companies develop new process strategies and evaluate the effects of process design and scale up on product characteristics. It is a powerful predictive tool that can support the adoption of continuous manufacturing.\\n\\n\\n\\n\\n\\n\\nMixing\\nAltair EDEM™ can simulate the mixing process of powders, tablets, aggregates, and other granular materials. It provides fundamental information such as the particle velocities and trajectories and allows for the prediction of mixing and segregation rates as well as the identification of dead zones. This enables operators to make informed decisions on the optimal process operational parameters for their equipment regarding the impact of speed, fill level, tilt angle, etc., and to assess mixing efficiency.\\n\\n\\n\\n\\n\\n\\nTablet Coating\\nCoating uniformity is of critical importance for the tablet-coating process. With EDEM it is possible to obtain key parameters such as the residence time of the tablets under the coating spray, intra-tablet coating variability, and tablets velocities pattern – many of these are difficult or even impossible to get by experimentation. EDEM can also be used to investigate how the shape of a tablet, the drum’s speed, and the fill level are influencing the coating process.\\n\\n\\n\\n\\n\\n\\nDie Filling\\nDie filling is a common step in many industries including pharmaceuticals and powder metallurgy. A consistent and uniform process is very important as it influences the quality of the final product or component. EDEM can be used to assess the effect of various key parameters, understand micro-macro dynamics of particles inside the feed frame, and visualize segregation inside the feed frame and during die filling.\\n\\n\\n\\n\\n\\n\\nPowder Spreading and Raking\\nThe powder spreading process in additive manufacturing (AM) has a major impact on the characteristics and quality of the final product. EDEM can be used to simulate that process and investigate the impact of different operational parameters such as roller speed on the quality of the powder bed as well as evaluating powder spreading uniformity. EDEM can be applied to various aspects of the AM process including powder delivery, spreading, and cleaning operations.\\n\\n\\n\\n\\n\\n\\nFluidized Beds\\nFluidized beds are commonplace in industry – particularly in chemical processing – and are used in a wide variety of processes such as freezing, cooling, heating, and coating. By coupling computational fluid dynamics (CFD) with discrete element modeling (DEM) using Altair AcuSolve™ with EDEM companies can accurately simulate fluidized beds and other particle-fluid systems. DEM-CFD provides key information and can be used to assess the quality of fluidization and to understand mixing and segregation phenomena.\\n\\n\\n\\n\\n\\n\\nConveying Equipment\\nScrew conveyors are frequently used in a range of industries to transport granular materials. With EDEM, companies can analyze the flow rate of different materials in the conveyor and get information on the forces and wear on equipment. EDEM can be used to predict any risk of blockages, assess the mixing and compression of the material, and obtain information on system capacity and power requirements.\\n\\n',\n",
              " '\\n\\n\\r\\n                Rail\\r\\n            \\nAs with many other sectors, the rail industry has an increasing emphasis on reliability, availability, and connectivity to ensure maintenance and operational costs are optimized. It needs to develop robust and aerodynamic rail car designs that provide comfort and safety to the passengers. To succeed companies must exploit CAE as early as possible in the process to drive decision making and deliver designs on time, on target, and on cost.\\nDigitalization has also emerged as a key driver for innovation in railways. It provides significant opportunities to streamline operations, improve reliability of assets, and enhance passenger (or freight customer) experience while reducing costs. It is being used to derive real-time information on rail movements and is an enabler of predictive maintenance for fixed assets and rolling stock. \\n\\n\\n\\n\\n\\n\\n\\nMaximize Reliability, Availability, and Desirability\\nOptimized and Robust Designs: Altair OptiStruct™ and Altair HyperStudy™ are powerful tools in the design development to meet performance requirements, all while handling the trade-offs in an automated manner. Car body optimization achieves the structural requirements for safety, acoustics, weight, and cost. Bogie designs obtain the best balance of durability, acoustics, assembly, and performance. Seat optimization accomplishes all safety, weight, and comfort criteria. Pantograph design finds the optimal robustness, impact, and transmission efficiency.\\nDrivers and Passenger Environment: Competition in the rail industry requires constant innovation to make the passenger experience more pleasant and convenient. The advanced Noise, Vibration & Harshness (NVH) analysis of OptiStruct® is used broadly to ensure the passenger experience is enhanced, and quality is further addressed by Altair Squeak & Rattle Director™. Altair AcuSolve™ provides solutions engineers need to design better passenger compartment airflow and thermal comfort.\\nTools for Mechanical Analysis: Detailed occupant simulation using certified occupant models and seat models for crash and impact simulations are performed with Altair Radioss™. It is the preferred solution for performing dynamic simulations for impact of metallic and composite structures. To rail industry durability requirements Altair HyperLife™ provides a comprehensive and easy to use durability analysis workflow. Altair MotionSolve™ is a powerful product for full dynamic simulation, including those with flexible bodies.\\n\\n\\n\\n\\n\\n\\nOptimize Connectivity and Operational Costs\\nNetwork Connectivity: Equipment connectivity and electromagnetic compatibility (EMC) is essential to today’s rolling stock, and can be optimized with Altair Feko™ and Altair Flux™. Feko® is widely for the design and placement of antennas and modeling wave propagation for network simulation. Flux can evaluate the magnetic field radiated by power cables and busbars, and the effect of external fields on the operation of sensors or actuators. Feko can also simulate both the radiation and irradiation of cables, antennas, and devices to inform the design of effective shielding.\\nElectric Drivetrains: Altair FluxMotor™ is dedicated to the simulation-driven design of electric rotating machines. It enables users to build from standard or customized parts, add windings and change materials to quickly develop a concept design. Flux models even the most complex electromechanical systems with proven accuracy. It provides multiphysics capabilities – magneto static, steady-state and transient conditions, along with electrical and thermal properties – to optimize machine performance, efficiency, dimensions, cost, and weight.\\nReduce Downtime and Extend Useful Life: Asset management with the Internet of Things (IoT) has given birth to \"digital twins\" of critical assets. Digital twins help organizations optimize product performance, gain visibility into the in-service life of a product, know when and where to perform predictive maintenance, and how to extend a product’s remaining useful life (RUL).\\n\\n',\n",
              " '\\n\\n\\r\\n                Retail\\r\\n            \\nAltair’s data analytics solutions enable retailers, consumer packaged goods (CPG), and fast-moving consumer goods (FMCG) companies to profile, segment and score shopper data to better understand the path to purchase, price sensitivities, and more.\\n\\nData Preparation for RetailRetailers must take advantage of the full universe of data available to them to stay competitive in a constantly changing battle for consumer disposable income. With Altair, you can access data from point-of-sale (POS), CRM and inventory systems, eCommerce sites to better understand customer sentiment, shopping patterns, supply chain opportunities, and product pricing. Altair offers a centralized data marketplace to access, clean and share all your data sources to speed collaboration and drive insights to stay competitive.Deeper Customer InsightsThe omnichannel strategy has changed the way customers interact with retailers and CPG brands. Smartphones have also made it impossibly easy to interact with and market to customers. For promotions to not come across as clumsy and tone-deaf, retailers need to better understand changing preferences, and shifting demand so they can personalize their interactions. With Altair, retail analysts derive deeper customer insights, faster, by blending and analyzing data across all channels, without any coding or IT dependencies. Data is your biggest asset in the war for attention and loyalty.Improve Profits with Data AnalyticsLooking to improve profitability? Better insight can get you there. You have a wealth of data on sales trends, cart abandonment and revenue by products, stores, and channels, but you’re probably struggling to derive insight from it. With Altair, you can manage your business dynamically with the ability build real-time reports on every angle of your retail operations. You can even enrich your reports with third-party information, like weather data and customer credit data to better optimize store staffing levels and create targeted, just-in-time promotions.Consumer Insight and Behavior AnalyticsIn an era when new retail entrants exclusively sell their goods via digital channels, customers today have more choice where they purchase from, when they purchase, and at what price. Brand loyalty is often an afterthought as customers shop around for their best option. Retailers are challenged to find new ways to appeal to existing and potential buyers. Altair’s data analytics solutions enable retail organizations to profile, segment and score innumerable individual consumers to better understand the propensity of one to select a product for purchase, and at what price consumers will most likely be willing to pay.',\n",
              " '\\n\\n\\r\\n                Weather and Climate\\r\\n            \\nWeather and climate centers worldwide rely on the power of high-performance computing (HPC), and Altair keeps HPC running reliably and efficiently. Because modeling the Earth’s weather and climate is a challenge, it requires powerful HPC systems and software that can orchestrate the most complex workloads. Fields such as climate modeling and numerical weather forecasting have global economic and social impact.\\n\\nWeather and Climate ModelingAltair solutions for HPC workload orchestration, resource management, user access, analytics and more power major weather centers all over the world. Where time is always a critical factor, our Altair PBS Works™ solutions make sure weather and climate modeling and simulation workloads run as quickly and efficiently as possible, making the most of HPC resources.PBS Professional and the Cylc Workflow EngineCylc is an open-source workflow engine for cycling systems that handles a range of workflow complexities. It automatically executes tasks according to detailed schedules and dependencies, and it’s especially useful in areas such as weather and climate modeling, numerical weather prediction, physics simulation, and data processing.The Altair Weather SolutionAltair’s weather solution is built on the Altair PBS Professional™ workload manager for HPC and cloud environments, combined with the Cylc workflow engine. The solution lets users monitor HPC hardware, Cylc suites, and PBS Professional jobs, and it provides clear and concise status reporting. Purpose-built for the complex workloads of climate modeling and prediction, the Altair weather solution was designed to be modular, comes ready for easy, out-of-the-box deployment and includes:']"
            ]
          },
          "metadata": {
            "tags": []
          },
          "execution_count": 53
        }
      ]
    },
    {
      "cell_type": "code",
      "metadata": {
        "id": "mOGx-R6uLWjE",
        "colab_type": "code",
        "colab": {}
      },
      "source": [
        "industries = [\n",
        "    'Aerospace',\n",
        "    'Agriculture and Construction',\n",
        "    'Automotive',\n",
        "    'Civil Engineering',\n",
        "    'Consumer Goods',\n",
        "    'Electronics',\n",
        "    'Energy',\n",
        "    'Financial Services',\n",
        "    'Government Agencies',\n",
        "    'Healthcare',\n",
        "    'Marine',\n",
        "    'Process Manufacturing',\n",
        "    'Rail',\n",
        "    'Retail',\n",
        "    'Weather and Climate'\n",
        "]\n",
        "\n",
        "# create dataframe with industry texts\n",
        "industries_df = pd.DataFrame(data={'label': industries, \n",
        "                                   'text': industry_texts},\n",
        "                             columns=['label', 'text'])"
      ],
      "execution_count": null,
      "outputs": []
    },
    {
      "cell_type": "code",
      "metadata": {
        "id": "p4kucfiKLX59",
        "colab_type": "code",
        "colab": {
          "base_uri": "https://localhost:8080/",
          "height": 514
        },
        "outputId": "6eb9a96b-74ac-4a1b-a96e-0e73014334a1"
      },
      "source": [
        "industries_df"
      ],
      "execution_count": null,
      "outputs": [
        {
          "output_type": "execute_result",
          "data": {
            "text/html": [
              "<div>\n",
              "<style scoped>\n",
              "    .dataframe tbody tr th:only-of-type {\n",
              "        vertical-align: middle;\n",
              "    }\n",
              "\n",
              "    .dataframe tbody tr th {\n",
              "        vertical-align: top;\n",
              "    }\n",
              "\n",
              "    .dataframe thead th {\n",
              "        text-align: right;\n",
              "    }\n",
              "</style>\n",
              "<table border=\"1\" class=\"dataframe\">\n",
              "  <thead>\n",
              "    <tr style=\"text-align: right;\">\n",
              "      <th></th>\n",
              "      <th>label</th>\n",
              "      <th>text</th>\n",
              "    </tr>\n",
              "  </thead>\n",
              "  <tbody>\n",
              "    <tr>\n",
              "      <th>0</th>\n",
              "      <td>Aerospace</td>\n",
              "      <td>\\n\\n\\r\\n                Aerospace\\r\\n         ...</td>\n",
              "    </tr>\n",
              "    <tr>\n",
              "      <th>1</th>\n",
              "      <td>Agriculture and Construction</td>\n",
              "      <td>\\n\\n\\r\\n                Agriculture and Constr...</td>\n",
              "    </tr>\n",
              "    <tr>\n",
              "      <th>2</th>\n",
              "      <td>Automotive</td>\n",
              "      <td>\\n\\n\\r\\n                Automotive\\r\\n        ...</td>\n",
              "    </tr>\n",
              "    <tr>\n",
              "      <th>3</th>\n",
              "      <td>Civil Engineering</td>\n",
              "      <td>\\n\\n\\r\\n                Civil Engineering\\r\\n ...</td>\n",
              "    </tr>\n",
              "    <tr>\n",
              "      <th>4</th>\n",
              "      <td>Consumer Goods</td>\n",
              "      <td>\\n\\n\\r\\n                Consumer Goods\\r\\n    ...</td>\n",
              "    </tr>\n",
              "    <tr>\n",
              "      <th>5</th>\n",
              "      <td>Electronics</td>\n",
              "      <td>\\n\\n\\r\\n                Electronics\\r\\n       ...</td>\n",
              "    </tr>\n",
              "    <tr>\n",
              "      <th>6</th>\n",
              "      <td>Energy</td>\n",
              "      <td>\\n\\n\\r\\n                Energy\\r\\n            ...</td>\n",
              "    </tr>\n",
              "    <tr>\n",
              "      <th>7</th>\n",
              "      <td>Financial Services</td>\n",
              "      <td>\\n\\n\\r\\n                Financial Services\\r\\n...</td>\n",
              "    </tr>\n",
              "    <tr>\n",
              "      <th>8</th>\n",
              "      <td>Government Agencies</td>\n",
              "      <td>\\n\\n\\r\\n                Government Agencies\\r\\...</td>\n",
              "    </tr>\n",
              "    <tr>\n",
              "      <th>9</th>\n",
              "      <td>Healthcare</td>\n",
              "      <td>\\n\\n\\r\\n                Healthcare\\r\\n        ...</td>\n",
              "    </tr>\n",
              "    <tr>\n",
              "      <th>10</th>\n",
              "      <td>Marine</td>\n",
              "      <td>\\n\\n\\r\\n                Marine\\r\\n            ...</td>\n",
              "    </tr>\n",
              "    <tr>\n",
              "      <th>11</th>\n",
              "      <td>Process Manufacturing</td>\n",
              "      <td>\\n\\n\\r\\n                Process Manufacturing\\...</td>\n",
              "    </tr>\n",
              "    <tr>\n",
              "      <th>12</th>\n",
              "      <td>Rail</td>\n",
              "      <td>\\n\\n\\r\\n                Rail\\r\\n            \\n...</td>\n",
              "    </tr>\n",
              "    <tr>\n",
              "      <th>13</th>\n",
              "      <td>Retail</td>\n",
              "      <td>\\n\\n\\r\\n                Retail\\r\\n            ...</td>\n",
              "    </tr>\n",
              "    <tr>\n",
              "      <th>14</th>\n",
              "      <td>Weather and Climate</td>\n",
              "      <td>\\n\\n\\r\\n                Weather and Climate\\r\\...</td>\n",
              "    </tr>\n",
              "  </tbody>\n",
              "</table>\n",
              "</div>"
            ],
            "text/plain": [
              "                           label                                               text\n",
              "0                      Aerospace  \\n\\n\\r\\n                Aerospace\\r\\n         ...\n",
              "1   Agriculture and Construction  \\n\\n\\r\\n                Agriculture and Constr...\n",
              "2                     Automotive  \\n\\n\\r\\n                Automotive\\r\\n        ...\n",
              "3              Civil Engineering  \\n\\n\\r\\n                Civil Engineering\\r\\n ...\n",
              "4                 Consumer Goods  \\n\\n\\r\\n                Consumer Goods\\r\\n    ...\n",
              "5                    Electronics  \\n\\n\\r\\n                Electronics\\r\\n       ...\n",
              "6                         Energy  \\n\\n\\r\\n                Energy\\r\\n            ...\n",
              "7             Financial Services  \\n\\n\\r\\n                Financial Services\\r\\n...\n",
              "8            Government Agencies  \\n\\n\\r\\n                Government Agencies\\r\\...\n",
              "9                     Healthcare  \\n\\n\\r\\n                Healthcare\\r\\n        ...\n",
              "10                        Marine  \\n\\n\\r\\n                Marine\\r\\n            ...\n",
              "11         Process Manufacturing  \\n\\n\\r\\n                Process Manufacturing\\...\n",
              "12                          Rail  \\n\\n\\r\\n                Rail\\r\\n            \\n...\n",
              "13                        Retail  \\n\\n\\r\\n                Retail\\r\\n            ...\n",
              "14           Weather and Climate  \\n\\n\\r\\n                Weather and Climate\\r\\..."
            ]
          },
          "metadata": {
            "tags": []
          },
          "execution_count": 68
        }
      ]
    },
    {
      "cell_type": "code",
      "metadata": {
        "id": "56clygllLebR",
        "colab_type": "code",
        "colab": {
          "base_uri": "https://localhost:8080/",
          "height": 514
        },
        "outputId": "ae0e56b1-4fbd-4976-db28-80f4aacec190"
      },
      "source": [
        "import os\n",
        "# exclude documents with no text\n",
        "df = industries_df[~industries_df.text.isna()]\n",
        "\n",
        "df"
      ],
      "execution_count": null,
      "outputs": [
        {
          "output_type": "execute_result",
          "data": {
            "text/html": [
              "<div>\n",
              "<style scoped>\n",
              "    .dataframe tbody tr th:only-of-type {\n",
              "        vertical-align: middle;\n",
              "    }\n",
              "\n",
              "    .dataframe tbody tr th {\n",
              "        vertical-align: top;\n",
              "    }\n",
              "\n",
              "    .dataframe thead th {\n",
              "        text-align: right;\n",
              "    }\n",
              "</style>\n",
              "<table border=\"1\" class=\"dataframe\">\n",
              "  <thead>\n",
              "    <tr style=\"text-align: right;\">\n",
              "      <th></th>\n",
              "      <th>label</th>\n",
              "      <th>text</th>\n",
              "    </tr>\n",
              "  </thead>\n",
              "  <tbody>\n",
              "    <tr>\n",
              "      <th>0</th>\n",
              "      <td>Aerospace</td>\n",
              "      <td>\\n\\n\\r\\n                Aerospace\\r\\n         ...</td>\n",
              "    </tr>\n",
              "    <tr>\n",
              "      <th>1</th>\n",
              "      <td>Agriculture and Construction</td>\n",
              "      <td>\\n\\n\\r\\n                Agriculture and Constr...</td>\n",
              "    </tr>\n",
              "    <tr>\n",
              "      <th>2</th>\n",
              "      <td>Automotive</td>\n",
              "      <td>\\n\\n\\r\\n                Automotive\\r\\n        ...</td>\n",
              "    </tr>\n",
              "    <tr>\n",
              "      <th>3</th>\n",
              "      <td>Civil Engineering</td>\n",
              "      <td>\\n\\n\\r\\n                Civil Engineering\\r\\n ...</td>\n",
              "    </tr>\n",
              "    <tr>\n",
              "      <th>4</th>\n",
              "      <td>Consumer Goods</td>\n",
              "      <td>\\n\\n\\r\\n                Consumer Goods\\r\\n    ...</td>\n",
              "    </tr>\n",
              "    <tr>\n",
              "      <th>5</th>\n",
              "      <td>Electronics</td>\n",
              "      <td>\\n\\n\\r\\n                Electronics\\r\\n       ...</td>\n",
              "    </tr>\n",
              "    <tr>\n",
              "      <th>6</th>\n",
              "      <td>Energy</td>\n",
              "      <td>\\n\\n\\r\\n                Energy\\r\\n            ...</td>\n",
              "    </tr>\n",
              "    <tr>\n",
              "      <th>7</th>\n",
              "      <td>Financial Services</td>\n",
              "      <td>\\n\\n\\r\\n                Financial Services\\r\\n...</td>\n",
              "    </tr>\n",
              "    <tr>\n",
              "      <th>8</th>\n",
              "      <td>Government Agencies</td>\n",
              "      <td>\\n\\n\\r\\n                Government Agencies\\r\\...</td>\n",
              "    </tr>\n",
              "    <tr>\n",
              "      <th>9</th>\n",
              "      <td>Healthcare</td>\n",
              "      <td>\\n\\n\\r\\n                Healthcare\\r\\n        ...</td>\n",
              "    </tr>\n",
              "    <tr>\n",
              "      <th>10</th>\n",
              "      <td>Marine</td>\n",
              "      <td>\\n\\n\\r\\n                Marine\\r\\n            ...</td>\n",
              "    </tr>\n",
              "    <tr>\n",
              "      <th>11</th>\n",
              "      <td>Process Manufacturing</td>\n",
              "      <td>\\n\\n\\r\\n                Process Manufacturing\\...</td>\n",
              "    </tr>\n",
              "    <tr>\n",
              "      <th>12</th>\n",
              "      <td>Rail</td>\n",
              "      <td>\\n\\n\\r\\n                Rail\\r\\n            \\n...</td>\n",
              "    </tr>\n",
              "    <tr>\n",
              "      <th>13</th>\n",
              "      <td>Retail</td>\n",
              "      <td>\\n\\n\\r\\n                Retail\\r\\n            ...</td>\n",
              "    </tr>\n",
              "    <tr>\n",
              "      <th>14</th>\n",
              "      <td>Weather and Climate</td>\n",
              "      <td>\\n\\n\\r\\n                Weather and Climate\\r\\...</td>\n",
              "    </tr>\n",
              "  </tbody>\n",
              "</table>\n",
              "</div>"
            ],
            "text/plain": [
              "                           label                                               text\n",
              "0                      Aerospace  \\n\\n\\r\\n                Aerospace\\r\\n         ...\n",
              "1   Agriculture and Construction  \\n\\n\\r\\n                Agriculture and Constr...\n",
              "2                     Automotive  \\n\\n\\r\\n                Automotive\\r\\n        ...\n",
              "3              Civil Engineering  \\n\\n\\r\\n                Civil Engineering\\r\\n ...\n",
              "4                 Consumer Goods  \\n\\n\\r\\n                Consumer Goods\\r\\n    ...\n",
              "5                    Electronics  \\n\\n\\r\\n                Electronics\\r\\n       ...\n",
              "6                         Energy  \\n\\n\\r\\n                Energy\\r\\n            ...\n",
              "7             Financial Services  \\n\\n\\r\\n                Financial Services\\r\\n...\n",
              "8            Government Agencies  \\n\\n\\r\\n                Government Agencies\\r\\...\n",
              "9                     Healthcare  \\n\\n\\r\\n                Healthcare\\r\\n        ...\n",
              "10                        Marine  \\n\\n\\r\\n                Marine\\r\\n            ...\n",
              "11         Process Manufacturing  \\n\\n\\r\\n                Process Manufacturing\\...\n",
              "12                          Rail  \\n\\n\\r\\n                Rail\\r\\n            \\n...\n",
              "13                        Retail  \\n\\n\\r\\n                Retail\\r\\n            ...\n",
              "14           Weather and Climate  \\n\\n\\r\\n                Weather and Climate\\r\\..."
            ]
          },
          "metadata": {
            "tags": []
          },
          "execution_count": 86
        }
      ]
    },
    {
      "cell_type": "markdown",
      "metadata": {
        "id": "fpR0yvB1Jx8o",
        "colab_type": "text"
      },
      "source": [
        "### Clean Text"
      ]
    },
    {
      "cell_type": "code",
      "metadata": {
        "id": "c8SL7aIHJ1Mo",
        "colab_type": "code",
        "colab": {}
      },
      "source": [
        "def clean_text(text):\n",
        "    \"\"\"Clean text from HTML and special characters,\n",
        "    remove file extensions, and split file names.\"\"\"\n",
        "    \n",
        "    # Remove all <h3> elements and their contents (stopwords).\n",
        "    soup = BeautifulSoup(text)\n",
        "    for h3 in soup.find_all('h3'):\n",
        "        h3.extract()\n",
        "    text = soup.text\n",
        "    \n",
        "    # Remove special characters. \n",
        "    text = re.sub(\"â€‹\", \"\", text)\n",
        "    text = re.sub(\"â€™\", \"\", text)\n",
        "    \n",
        "    # Remove file extensions\n",
        "    text = os.path.splitext(text)[0]\n",
        "    \n",
        "    # Split file name into words\n",
        "    text = ' '.join(text.split('_'))\n",
        "    \n",
        "    return text"
      ],
      "execution_count": null,
      "outputs": []
    },
    {
      "cell_type": "code",
      "metadata": {
        "id": "z2uywAnIMC6l",
        "colab_type": "code",
        "colab": {
          "base_uri": "https://localhost:8080/",
          "height": 514
        },
        "outputId": "07814f17-cf0f-4e1a-8521-b0c7e576bb03"
      },
      "source": [
        "# clean the text using the function above\n",
        "df.loc[:, 'text'] = df['text'].apply(clean_text)\n",
        "df"
      ],
      "execution_count": null,
      "outputs": [
        {
          "output_type": "execute_result",
          "data": {
            "text/html": [
              "<div>\n",
              "<style scoped>\n",
              "    .dataframe tbody tr th:only-of-type {\n",
              "        vertical-align: middle;\n",
              "    }\n",
              "\n",
              "    .dataframe tbody tr th {\n",
              "        vertical-align: top;\n",
              "    }\n",
              "\n",
              "    .dataframe thead th {\n",
              "        text-align: right;\n",
              "    }\n",
              "</style>\n",
              "<table border=\"1\" class=\"dataframe\">\n",
              "  <thead>\n",
              "    <tr style=\"text-align: right;\">\n",
              "      <th></th>\n",
              "      <th>label</th>\n",
              "      <th>text</th>\n",
              "    </tr>\n",
              "  </thead>\n",
              "  <tbody>\n",
              "    <tr>\n",
              "      <th>0</th>\n",
              "      <td>Aerospace</td>\n",
              "      <td>Aerospace\\r\\n            \\nAerospace belongs t...</td>\n",
              "    </tr>\n",
              "    <tr>\n",
              "      <th>1</th>\n",
              "      <td>Agriculture and Construction</td>\n",
              "      <td>Agriculture and Construction\\r\\n            \\n...</td>\n",
              "    </tr>\n",
              "    <tr>\n",
              "      <th>2</th>\n",
              "      <td>Automotive</td>\n",
              "      <td>Automotive\\r\\n            \\nThe automotive ind...</td>\n",
              "    </tr>\n",
              "    <tr>\n",
              "      <th>3</th>\n",
              "      <td>Civil Engineering</td>\n",
              "      <td>Civil Engineering\\r\\n            \\nSuper-tall ...</td>\n",
              "    </tr>\n",
              "    <tr>\n",
              "      <th>4</th>\n",
              "      <td>Consumer Goods</td>\n",
              "      <td>Consumer Goods\\r\\n            \\nWhat makes con...</td>\n",
              "    </tr>\n",
              "    <tr>\n",
              "      <th>5</th>\n",
              "      <td>Electronics</td>\n",
              "      <td>Electronics\\r\\n            \\nElectronics are a...</td>\n",
              "    </tr>\n",
              "    <tr>\n",
              "      <th>6</th>\n",
              "      <td>Energy</td>\n",
              "      <td>Energy\\r\\n            \\nThe global demand for ...</td>\n",
              "    </tr>\n",
              "    <tr>\n",
              "      <th>7</th>\n",
              "      <td>Financial Services</td>\n",
              "      <td>Financial Services\\r\\n            \\nAltair’s 3...</td>\n",
              "    </tr>\n",
              "    <tr>\n",
              "      <th>8</th>\n",
              "      <td>Government Agencies</td>\n",
              "      <td>Government Agencies\\r\\n            \\nGovernmen...</td>\n",
              "    </tr>\n",
              "    <tr>\n",
              "      <th>9</th>\n",
              "      <td>Healthcare</td>\n",
              "      <td>Healthcare\\r\\n            \\nSimulation can be ...</td>\n",
              "    </tr>\n",
              "    <tr>\n",
              "      <th>10</th>\n",
              "      <td>Marine</td>\n",
              "      <td>Marine\\r\\n            \\nFrom the design and ma...</td>\n",
              "    </tr>\n",
              "    <tr>\n",
              "      <th>11</th>\n",
              "      <td>Process Manufacturing</td>\n",
              "      <td>Process Manufacturing\\r\\n            \\nAny ind...</td>\n",
              "    </tr>\n",
              "    <tr>\n",
              "      <th>12</th>\n",
              "      <td>Rail</td>\n",
              "      <td>Rail\\r\\n            \\nAs with many other secto...</td>\n",
              "    </tr>\n",
              "    <tr>\n",
              "      <th>13</th>\n",
              "      <td>Retail</td>\n",
              "      <td>Retail\\r\\n            \\nAltair’s data analytic...</td>\n",
              "    </tr>\n",
              "    <tr>\n",
              "      <th>14</th>\n",
              "      <td>Weather and Climate</td>\n",
              "      <td>Weather and Climate\\r\\n            \\nWeather a...</td>\n",
              "    </tr>\n",
              "  </tbody>\n",
              "</table>\n",
              "</div>"
            ],
            "text/plain": [
              "                           label                                               text\n",
              "0                      Aerospace  Aerospace\\r\\n            \\nAerospace belongs t...\n",
              "1   Agriculture and Construction  Agriculture and Construction\\r\\n            \\n...\n",
              "2                     Automotive  Automotive\\r\\n            \\nThe automotive ind...\n",
              "3              Civil Engineering  Civil Engineering\\r\\n            \\nSuper-tall ...\n",
              "4                 Consumer Goods  Consumer Goods\\r\\n            \\nWhat makes con...\n",
              "5                    Electronics  Electronics\\r\\n            \\nElectronics are a...\n",
              "6                         Energy  Energy\\r\\n            \\nThe global demand for ...\n",
              "7             Financial Services  Financial Services\\r\\n            \\nAltair’s 3...\n",
              "8            Government Agencies  Government Agencies\\r\\n            \\nGovernmen...\n",
              "9                     Healthcare  Healthcare\\r\\n            \\nSimulation can be ...\n",
              "10                        Marine  Marine\\r\\n            \\nFrom the design and ma...\n",
              "11         Process Manufacturing  Process Manufacturing\\r\\n            \\nAny ind...\n",
              "12                          Rail  Rail\\r\\n            \\nAs with many other secto...\n",
              "13                        Retail  Retail\\r\\n            \\nAltair’s data analytic...\n",
              "14           Weather and Climate  Weather and Climate\\r\\n            \\nWeather a..."
            ]
          },
          "metadata": {
            "tags": []
          },
          "execution_count": 88
        }
      ]
    },
    {
      "cell_type": "markdown",
      "metadata": {
        "id": "hC_zCbPuJUBS",
        "colab_type": "text"
      },
      "source": [
        "### Tokenization Pipeline\n"
      ]
    },
    {
      "cell_type": "code",
      "metadata": {
        "id": "my9ToUbjJQnL",
        "colab_type": "code",
        "colab": {}
      },
      "source": [
        "import pandas as pd\n",
        "import spacy\n",
        "from spacy.lang.en import English\n",
        "from spacy.lang.en.stop_words import STOP_WORDS\n",
        "from spacy.tokenizer import Tokenizer"
      ],
      "execution_count": null,
      "outputs": []
    },
    {
      "cell_type": "code",
      "metadata": {
        "id": "-RUhChA7JHuV",
        "colab_type": "code",
        "colab": {}
      },
      "source": [
        "def add_lemmas(doc):\n",
        "    \"\"\"Adds custom lemmas.\"\"\"\n",
        "    custom_lookup = {\n",
        "        'structures': 'structure',\n",
        "        'medicine': 'medical',\n",
        "        'vehicles': 'vehicle',\n",
        "        'electronics': 'electronic',\n",
        "        'architectures': 'architecture', \n",
        "        'architect': 'architecture',\n",
        "        'powertrains': 'powertrain',\n",
        "        'drivetrains': 'drivetrain',\n",
        "        'engineered': 'engineer',\n",
        "        'engineers': 'engineer',\n",
        "        'engineering': 'engineer',\n",
        "        'materials': 'material',\n",
        "        'consumers': 'consumer',\n",
        "        'safe': 'safety',\n",
        "        'safely': 'safety',\n",
        "        'cars': 'car',\n",
        "        'marines': 'marine',\n",
        "        'ships': 'ship',\n",
        "        'shipped': 'ship',\n",
        "        'materia': 'material',\n",
        "        'aircrafts': 'aircraft',\n",
        "        'materials': 'material',\n",
        "        'plies': 'ply',\n",
        "        'loads': 'load',\n",
        "        'beams': 'beam',\n",
        "        'engines': 'engine',\n",
        "        'airframes': 'airframe',\n",
        "        'airbags': 'airbag',\n",
        "        'gadgets': 'gadget',\n",
        "        'mined': 'mine',\n",
        "        'ores': 'ore',\n",
        "        'soils': 'soil',\n",
        "        'oems': 'oem',\n",
        "        'passengers': 'passenger',\n",
        "        'shipbuilders': 'shipbuilder',\n",
        "        'retailers': 'retail',\n",
        "        'retailer': 'retail',\n",
        "        'institutions': 'institution',\n",
        "        'simulated': 'simulate',\n",
        "        'manufacturers': 'manufacturing',\n",
        "        'manufacturer': 'manufacturing',\n",
        "        'comfortable': 'comfort',\n",
        "        'automakers': 'automaker',\n",
        "        'loyalty': 'loyal',\n",
        "        'bore': 'bore',\n",
        "        'bores': 'bore'\n",
        "        }\n",
        "    for token in doc:\n",
        "        if token.text in custom_lookup:\n",
        "            token.lemma_ = custom_lookup[token.text]\n",
        "    return doc\n",
        "\n",
        "def custom_tokenizer(nlp):\n",
        "    \"\"\"Adds a custom tokenizer to remove special characters.\"\"\"\n",
        "    suffix_re = spacy.util.compile_suffix_regex(nlp.Defaults.suffixes)\n",
        "    prefixes = list(nlp.Defaults.prefixes)\n",
        "    prefixes.append(r'[@/+^~|\"\\\\\\\\]')\n",
        "    prefixes.append('-')\n",
        "    prefix_re = spacy.util.compile_prefix_regex(tuple(prefixes))\n",
        "    infixes = list(nlp.Defaults.infixes)\n",
        "    infixes.append('[()_+{}|~/:;,=<>%\"&#!@$*^\\\\-\\\\[\\\\]\\\\\\\\]')\n",
        "    infix_re = spacy.util.compile_infix_regex(tuple(infixes))\n",
        "    return Tokenizer(\n",
        "        nlp.vocab,\n",
        "        prefix_search=prefix_re.search,\n",
        "        infix_finditer=infix_re.finditer,\n",
        "        suffix_search=suffix_re.search,\n",
        "        token_match=None)\n",
        "\n",
        "def tokenize(df, tokenize_col):\n",
        "    \"\"\"Returns the dataframe with a tokens column.\n",
        "\n",
        "    The tokenize_col column is pre-processed by removing any unwanted characters\n",
        "    and tokens are extracted. Cleaning steps are:\n",
        "    - standardize words\n",
        "    - convert to lowercase\n",
        "    - remove punctuations, spaces, stop words, numbers, figure captions, greek letters\n",
        "    - lemmatize the words\n",
        "    - remove file extensions\n",
        "    - remove one character tokens\n",
        "    - remove tokens starting with a digit (except for 1D, 2D, 1st, 2nd, etc.)\n",
        "\n",
        "    Args:\n",
        "        df: dataframe with a tokenize_col column\n",
        "    \"\"\"\n",
        "\n",
        "    # standardize words\n",
        "    df[tokenize_col] = df[tokenize_col].str.replace('3-D','3D', case=True)\n",
        "    df[tokenize_col] = df[tokenize_col].str.replace('2-D','2D', case=True)\n",
        "    df[tokenize_col] = df[tokenize_col].str.replace('1-D','1D', case=True)\n",
        "    df[tokenize_col] = df[tokenize_col].str.replace('0-D','0D', case=True)\n",
        "    \n",
        "    # convert series to list for processing and lowercase all text\n",
        "    docs = df[tokenize_col].str.lower().tolist()\n",
        "    n_docs = len(docs)\n",
        "\n",
        "    # list of tokens to keep starting with a digit\n",
        "    digit_keep = ['0d','1d','2d','3d','1st','2nd','3rd','4th']\n",
        "\n",
        "    # custom list of stopwords\n",
        "    stopwords = list(STOP_WORDS)\n",
        "\n",
        "    all_tokens = []\n",
        "    all_pos_tags = []\n",
        "\n",
        "    for doc in tqdm(nlp.pipe(docs, n_threads=-1), total=n_docs):\n",
        "\n",
        "        # remove punctuations, spaces, brackets, \n",
        "        # stop words, figure captions,\n",
        "        # numbers and greek letters\n",
        "        tokens = [token for token in doc\n",
        "            if not token.is_punct\n",
        "            and not token.is_space\n",
        "            and not token.is_bracket\n",
        "            and not token.is_stop\n",
        "            and not token.like_num\n",
        "            and token.is_ascii]\n",
        "\n",
        "        # lemmatize the tokens\n",
        "        tokens = [token.lemma_ if token.lemma_ != '-PRON-' \n",
        "                  else token.text for token in tokens]\n",
        "        \n",
        "        # keep file name\n",
        "        tokens = [token.rsplit('/', 1)[1] if 'http' in token \n",
        "                  and len(token.rsplit('/', 1)) > 1 \n",
        "                  else token for token in tokens]\n",
        "        \n",
        "        # remove file extensions from tokens\n",
        "        tokens = [re.sub('\\.*?\\.(.+)', '', token) for token in tokens]\n",
        "\n",
        "        # remove one character tokens\n",
        "        tokens = [token for token in tokens if len(token) > 1]\n",
        "\n",
        "        # remove custom stop words\n",
        "        tokens = [token for token in tokens if token not in stopwords]\n",
        "\n",
        "        # remove tokens starting with a digit except for 1d, 2d, etc.\n",
        "        tokens = [token for token in tokens\n",
        "            if token in digit_keep or not token[0].isdigit()]\n",
        "\n",
        "        # update counter\n",
        "        all_tokens.append(tokens)\n",
        "\n",
        "    # create column with tokenized text\n",
        "    df[tokenize_col + '_tokens'] = all_tokens\n",
        "\n",
        "    return df\n",
        "\n",
        "# load the language model\n",
        "nlp = English()\n",
        "\n",
        "# customize pipeline\n",
        "nlp.tokenizer = custom_tokenizer(nlp)\n",
        "nlp.add_pipe(add_lemmas, first=True)\n",
        "\n",
        "# add custom stop words\n",
        "help_stopwords = {'altair', 'proprietary', 'confidential', 'select',\n",
        "                 'file', 'click', 'copyright', 'www', 'com', 'product', \n",
        "                  'simulation', 'simulations', 'products'}\n",
        "STOP_WORDS |= help_stopwords\n",
        "for word in STOP_WORDS:\n",
        "    lexeme = nlp.vocab[word]\n",
        "    lexeme.is_stop = True"
      ],
      "execution_count": null,
      "outputs": []
    },
    {
      "cell_type": "markdown",
      "metadata": {
        "id": "o9GJkxsnGsYB",
        "colab_type": "text"
      },
      "source": [
        "### Tokenize Documents\n",
        "See tokens and their frequency before tokenization"
      ]
    },
    {
      "cell_type": "code",
      "metadata": {
        "id": "T1wkondAKqlH",
        "colab_type": "code",
        "colab": {}
      },
      "source": [
        "import collections\n",
        "def get_word_freq(tokens_list):\n",
        "    \"\"\"Get frequency of each word in a dataframe.\"\"\"\n",
        "    simple_tokens_list = [item for sublist in tokens_list for item in sublist]\n",
        "    simple_tokens_list = [token.lower() for token in simple_tokens_list]\n",
        "    word_counts = collections.Counter(simple_tokens_list)\n",
        "    word_count_df = pd.DataFrame.from_dict(word_counts, orient='index').reset_index()\n",
        "    word_count_df = word_count_df.rename(columns={'index': 'term', 0: 'frequency'})\n",
        "    return word_count_df"
      ],
      "execution_count": null,
      "outputs": []
    },
    {
      "cell_type": "code",
      "metadata": {
        "id": "GA0q_rGAHxZ0",
        "colab_type": "code",
        "colab": {
          "base_uri": "https://localhost:8080/",
          "height": 34
        },
        "outputId": "723f177d-8632-4b50-e4d2-a3ee606e1206"
      },
      "source": [
        "tokens = df.text.apply(lambda text: text.split()).tolist()\n",
        "word_count_df = get_word_freq(tokens)\n",
        "\n",
        "print('There are %d tokens before tokenization' % (len(word_count_df)))"
      ],
      "execution_count": null,
      "outputs": [
        {
          "output_type": "stream",
          "text": [
            "There are 2260 tokens before tokenization\n"
          ],
          "name": "stdout"
        }
      ]
    },
    {
      "cell_type": "code",
      "metadata": {
        "id": "iBXh9Og8MpmA",
        "colab_type": "code",
        "colab": {
          "base_uri": "https://localhost:8080/",
          "height": 419
        },
        "outputId": "6d92afef-82af-40c5-9c4a-5d95ca2418c3"
      },
      "source": [
        "word_count_dfb"
      ],
      "execution_count": null,
      "outputs": [
        {
          "output_type": "execute_result",
          "data": {
            "text/html": [
              "<div>\n",
              "<style scoped>\n",
              "    .dataframe tbody tr th:only-of-type {\n",
              "        vertical-align: middle;\n",
              "    }\n",
              "\n",
              "    .dataframe tbody tr th {\n",
              "        vertical-align: top;\n",
              "    }\n",
              "\n",
              "    .dataframe thead th {\n",
              "        text-align: right;\n",
              "    }\n",
              "</style>\n",
              "<table border=\"1\" class=\"dataframe\">\n",
              "  <thead>\n",
              "    <tr style=\"text-align: right;\">\n",
              "      <th></th>\n",
              "      <th>term</th>\n",
              "      <th>frequency</th>\n",
              "    </tr>\n",
              "  </thead>\n",
              "  <tbody>\n",
              "    <tr>\n",
              "      <th>0</th>\n",
              "      <td>aerospace</td>\n",
              "      <td>5</td>\n",
              "    </tr>\n",
              "    <tr>\n",
              "      <th>1</th>\n",
              "      <td>belongs</td>\n",
              "      <td>1</td>\n",
              "    </tr>\n",
              "    <tr>\n",
              "      <th>2</th>\n",
              "      <td>to</td>\n",
              "      <td>255</td>\n",
              "    </tr>\n",
              "    <tr>\n",
              "      <th>3</th>\n",
              "      <td>explorers.</td>\n",
              "      <td>1</td>\n",
              "    </tr>\n",
              "    <tr>\n",
              "      <th>4</th>\n",
              "      <td>we</td>\n",
              "      <td>8</td>\n",
              "    </tr>\n",
              "    <tr>\n",
              "      <th>...</th>\n",
              "      <td>...</td>\n",
              "      <td>...</td>\n",
              "    </tr>\n",
              "    <tr>\n",
              "      <th>2255</th>\n",
              "      <td>hardware,</td>\n",
              "      <td>1</td>\n",
              "    </tr>\n",
              "    <tr>\n",
              "      <th>2256</th>\n",
              "      <td>suites,</td>\n",
              "      <td>1</td>\n",
              "    </tr>\n",
              "    <tr>\n",
              "      <th>2257</th>\n",
              "      <td>jobs,</td>\n",
              "      <td>1</td>\n",
              "    </tr>\n",
              "    <tr>\n",
              "      <th>2258</th>\n",
              "      <td>concise</td>\n",
              "      <td>1</td>\n",
              "    </tr>\n",
              "    <tr>\n",
              "      <th>2259</th>\n",
              "      <td>status</td>\n",
              "      <td>1</td>\n",
              "    </tr>\n",
              "  </tbody>\n",
              "</table>\n",
              "<p>2260 rows × 2 columns</p>\n",
              "</div>"
            ],
            "text/plain": [
              "            term  frequency\n",
              "0      aerospace          5\n",
              "1        belongs          1\n",
              "2             to        255\n",
              "3     explorers.          1\n",
              "4             we          8\n",
              "...          ...        ...\n",
              "2255   hardware,          1\n",
              "2256     suites,          1\n",
              "2257       jobs,          1\n",
              "2258     concise          1\n",
              "2259      status          1\n",
              "\n",
              "[2260 rows x 2 columns]"
            ]
          },
          "metadata": {
            "tags": []
          },
          "execution_count": 79
        }
      ]
    },
    {
      "cell_type": "code",
      "metadata": {
        "id": "oUjuB8dyM09a",
        "colab_type": "code",
        "colab": {
          "base_uri": "https://localhost:8080/",
          "height": 563,
          "referenced_widgets": [
            "7e8948eb84ed4eaea96945a3b9e97cfb",
            "f7582677087648298349d748f9e4d5c1",
            "227347d9d46742f3a1371d98ed2fcaa0",
            "953a8248089f4122967e18d3597a8657",
            "1050bf45e67a41f0a9abc1cc96ef2173",
            "4e38b484dd304af7ad56ca123b9a50e9",
            "d762a2120cff44f6b2b3ad91651fbabc",
            "c1f60a1356d44d7ca780a97cc4091c77"
          ]
        },
        "outputId": "85bb255e-a228-4565-8e55-7faa68ed3d8b"
      },
      "source": [
        "df = tokenize(df, 'text')\n",
        "df"
      ],
      "execution_count": null,
      "outputs": [
        {
          "output_type": "display_data",
          "data": {
            "application/vnd.jupyter.widget-view+json": {
              "model_id": "7e8948eb84ed4eaea96945a3b9e97cfb",
              "version_minor": 0,
              "version_major": 2
            },
            "text/plain": [
              "HBox(children=(FloatProgress(value=0.0, max=15.0), HTML(value='')))"
            ]
          },
          "metadata": {
            "tags": []
          }
        },
        {
          "output_type": "stream",
          "text": [
            "\n"
          ],
          "name": "stdout"
        },
        {
          "output_type": "execute_result",
          "data": {
            "text/html": [
              "<div>\n",
              "<style scoped>\n",
              "    .dataframe tbody tr th:only-of-type {\n",
              "        vertical-align: middle;\n",
              "    }\n",
              "\n",
              "    .dataframe tbody tr th {\n",
              "        vertical-align: top;\n",
              "    }\n",
              "\n",
              "    .dataframe thead th {\n",
              "        text-align: right;\n",
              "    }\n",
              "</style>\n",
              "<table border=\"1\" class=\"dataframe\">\n",
              "  <thead>\n",
              "    <tr style=\"text-align: right;\">\n",
              "      <th></th>\n",
              "      <th>label</th>\n",
              "      <th>text</th>\n",
              "      <th>text_tokens</th>\n",
              "    </tr>\n",
              "  </thead>\n",
              "  <tbody>\n",
              "    <tr>\n",
              "      <th>0</th>\n",
              "      <td>Aerospace</td>\n",
              "      <td>Aerospace\\r\\n            \\nAerospace belongs t...</td>\n",
              "      <td>[aerospace, aerospace, belongs, explorers, ins...</td>\n",
              "    </tr>\n",
              "    <tr>\n",
              "      <th>1</th>\n",
              "      <td>Agriculture and Construction</td>\n",
              "      <td>Agriculture and Construction\\r\\n            \\n...</td>\n",
              "      <td>[agriculture, construction, big, jobs, highway...</td>\n",
              "    </tr>\n",
              "    <tr>\n",
              "      <th>2</th>\n",
              "      <td>Automotive</td>\n",
              "      <td>Automotive\\r\\n            \\nThe automotive ind...</td>\n",
              "      <td>[automotive, automotive, industry, evolving, u...</td>\n",
              "    </tr>\n",
              "    <tr>\n",
              "      <th>3</th>\n",
              "      <td>Civil Engineering</td>\n",
              "      <td>Civil Engineering\\r\\n            \\nSuper-tall ...</td>\n",
              "      <td>[civil, engineer, super, tall, buildings, syst...</td>\n",
              "    </tr>\n",
              "    <tr>\n",
              "      <th>4</th>\n",
              "      <td>Consumer Goods</td>\n",
              "      <td>Consumer Goods\\r\\n            \\nWhat makes con...</td>\n",
              "      <td>[consumer, goods, makes, consumer, loyal, fact...</td>\n",
              "    </tr>\n",
              "    <tr>\n",
              "      <th>5</th>\n",
              "      <td>Electronics</td>\n",
              "      <td>Electronics\\r\\n            \\nElectronics are a...</td>\n",
              "      <td>[electronic, electronic, lives, professionally...</td>\n",
              "    </tr>\n",
              "    <tr>\n",
              "      <th>6</th>\n",
              "      <td>Energy</td>\n",
              "      <td>Energy\\r\\n            \\nThe global demand for ...</td>\n",
              "      <td>[energy, global, demand, energy, continues, in...</td>\n",
              "    </tr>\n",
              "    <tr>\n",
              "      <th>7</th>\n",
              "      <td>Financial Services</td>\n",
              "      <td>Financial Services\\r\\n            \\nAltair’s 3...</td>\n",
              "      <td>[financial, services, year, history, working, ...</td>\n",
              "    </tr>\n",
              "    <tr>\n",
              "      <th>8</th>\n",
              "      <td>Government Agencies</td>\n",
              "      <td>Government Agencies\\r\\n            \\nGovernmen...</td>\n",
              "      <td>[government, agencies, government, academic, o...</td>\n",
              "    </tr>\n",
              "    <tr>\n",
              "      <th>9</th>\n",
              "      <td>Healthcare</td>\n",
              "      <td>Healthcare\\r\\n            \\nSimulation can be ...</td>\n",
              "      <td>[healthcare, key, understanding, complex, issu...</td>\n",
              "    </tr>\n",
              "    <tr>\n",
              "      <th>10</th>\n",
              "      <td>Marine</td>\n",
              "      <td>Marine\\r\\n            \\nFrom the design and ma...</td>\n",
              "      <td>[marine, design, manufacture, small, recreatio...</td>\n",
              "    </tr>\n",
              "    <tr>\n",
              "      <th>11</th>\n",
              "      <td>Process Manufacturing</td>\n",
              "      <td>Process Manufacturing\\r\\n            \\nAny ind...</td>\n",
              "      <td>[process, manufacturing, industry, produces, b...</td>\n",
              "    </tr>\n",
              "    <tr>\n",
              "      <th>12</th>\n",
              "      <td>Rail</td>\n",
              "      <td>Rail\\r\\n            \\nAs with many other secto...</td>\n",
              "      <td>[rail, sectors, rail, industry, increasing, em...</td>\n",
              "    </tr>\n",
              "    <tr>\n",
              "      <th>13</th>\n",
              "      <td>Retail</td>\n",
              "      <td>Retail\\r\\n            \\nAltair’s data analytic...</td>\n",
              "      <td>[retail, data, analytics, solutions, enable, r...</td>\n",
              "    </tr>\n",
              "    <tr>\n",
              "      <th>14</th>\n",
              "      <td>Weather and Climate</td>\n",
              "      <td>Weather and Climate\\r\\n            \\nWeather a...</td>\n",
              "      <td>[weather, climate, weather, climate, centers, ...</td>\n",
              "    </tr>\n",
              "  </tbody>\n",
              "</table>\n",
              "</div>"
            ],
            "text/plain": [
              "                           label  ...                                        text_tokens\n",
              "0                      Aerospace  ...  [aerospace, aerospace, belongs, explorers, ins...\n",
              "1   Agriculture and Construction  ...  [agriculture, construction, big, jobs, highway...\n",
              "2                     Automotive  ...  [automotive, automotive, industry, evolving, u...\n",
              "3              Civil Engineering  ...  [civil, engineer, super, tall, buildings, syst...\n",
              "4                 Consumer Goods  ...  [consumer, goods, makes, consumer, loyal, fact...\n",
              "5                    Electronics  ...  [electronic, electronic, lives, professionally...\n",
              "6                         Energy  ...  [energy, global, demand, energy, continues, in...\n",
              "7             Financial Services  ...  [financial, services, year, history, working, ...\n",
              "8            Government Agencies  ...  [government, agencies, government, academic, o...\n",
              "9                     Healthcare  ...  [healthcare, key, understanding, complex, issu...\n",
              "10                        Marine  ...  [marine, design, manufacture, small, recreatio...\n",
              "11         Process Manufacturing  ...  [process, manufacturing, industry, produces, b...\n",
              "12                          Rail  ...  [rail, sectors, rail, industry, increasing, em...\n",
              "13                        Retail  ...  [retail, data, analytics, solutions, enable, r...\n",
              "14           Weather and Climate  ...  [weather, climate, weather, climate, centers, ...\n",
              "\n",
              "[15 rows x 3 columns]"
            ]
          },
          "metadata": {
            "tags": []
          },
          "execution_count": 90
        }
      ]
    },
    {
      "cell_type": "markdown",
      "metadata": {
        "id": "JSx1s91ZM-ui",
        "colab_type": "text"
      },
      "source": [
        "#### See tokens and their frequency after tokenization\n"
      ]
    },
    {
      "cell_type": "code",
      "metadata": {
        "id": "-vlWQSDpKvKY",
        "colab_type": "code",
        "colab": {
          "base_uri": "https://localhost:8080/",
          "height": 221
        },
        "outputId": "cd7e71b3-bad1-4cbb-c2b0-1106722500c5"
      },
      "source": [
        "tokens = df.text_tokens.tolist()\n",
        "word_count_df = get_word_freq(tokens)\n",
        "\n",
        "print('There are %d tokens after tokenization' % (len(word_count_df)))\n",
        "word_count_df.sort_values(by='frequency', ascending=False).head()"
      ],
      "execution_count": null,
      "outputs": [
        {
          "output_type": "stream",
          "text": [
            "There are 1672 tokens after tokenization\n"
          ],
          "name": "stdout"
        },
        {
          "output_type": "execute_result",
          "data": {
            "text/html": [
              "<div>\n",
              "<style scoped>\n",
              "    .dataframe tbody tr th:only-of-type {\n",
              "        vertical-align: middle;\n",
              "    }\n",
              "\n",
              "    .dataframe tbody tr th {\n",
              "        vertical-align: top;\n",
              "    }\n",
              "\n",
              "    .dataframe thead th {\n",
              "        text-align: right;\n",
              "    }\n",
              "</style>\n",
              "<table border=\"1\" class=\"dataframe\">\n",
              "  <thead>\n",
              "    <tr style=\"text-align: right;\">\n",
              "      <th></th>\n",
              "      <th>term</th>\n",
              "      <th>frequency</th>\n",
              "    </tr>\n",
              "  </thead>\n",
              "  <tbody>\n",
              "    <tr>\n",
              "      <th>38</th>\n",
              "      <td>design</td>\n",
              "      <td>74</td>\n",
              "    </tr>\n",
              "    <tr>\n",
              "      <th>99</th>\n",
              "      <td>data</td>\n",
              "      <td>45</td>\n",
              "    </tr>\n",
              "    <tr>\n",
              "      <th>116</th>\n",
              "      <td>performance</td>\n",
              "      <td>38</td>\n",
              "    </tr>\n",
              "    <tr>\n",
              "      <th>6</th>\n",
              "      <td>optimization</td>\n",
              "      <td>36</td>\n",
              "    </tr>\n",
              "    <tr>\n",
              "      <th>72</th>\n",
              "      <td>engineer</td>\n",
              "      <td>33</td>\n",
              "    </tr>\n",
              "  </tbody>\n",
              "</table>\n",
              "</div>"
            ],
            "text/plain": [
              "             term  frequency\n",
              "38         design         74\n",
              "99           data         45\n",
              "116   performance         38\n",
              "6    optimization         36\n",
              "72       engineer         33"
            ]
          },
          "metadata": {
            "tags": []
          },
          "execution_count": 91
        }
      ]
    },
    {
      "cell_type": "code",
      "metadata": {
        "id": "ctCUFjN4NX8H",
        "colab_type": "code",
        "colab": {
          "base_uri": "https://localhost:8080/",
          "height": 514
        },
        "outputId": "66c122d3-837c-46c5-8f3a-94272033263d"
      },
      "source": [
        "df"
      ],
      "execution_count": null,
      "outputs": [
        {
          "output_type": "execute_result",
          "data": {
            "text/html": [
              "<div>\n",
              "<style scoped>\n",
              "    .dataframe tbody tr th:only-of-type {\n",
              "        vertical-align: middle;\n",
              "    }\n",
              "\n",
              "    .dataframe tbody tr th {\n",
              "        vertical-align: top;\n",
              "    }\n",
              "\n",
              "    .dataframe thead th {\n",
              "        text-align: right;\n",
              "    }\n",
              "</style>\n",
              "<table border=\"1\" class=\"dataframe\">\n",
              "  <thead>\n",
              "    <tr style=\"text-align: right;\">\n",
              "      <th></th>\n",
              "      <th>label</th>\n",
              "      <th>text</th>\n",
              "      <th>text_tokens</th>\n",
              "    </tr>\n",
              "  </thead>\n",
              "  <tbody>\n",
              "    <tr>\n",
              "      <th>0</th>\n",
              "      <td>Aerospace</td>\n",
              "      <td>Aerospace\\r\\n            \\nAerospace belongs t...</td>\n",
              "      <td>[aerospace, aerospace, belongs, explorers, ins...</td>\n",
              "    </tr>\n",
              "    <tr>\n",
              "      <th>1</th>\n",
              "      <td>Agriculture and Construction</td>\n",
              "      <td>Agriculture and Construction\\r\\n            \\n...</td>\n",
              "      <td>[agriculture, construction, big, jobs, highway...</td>\n",
              "    </tr>\n",
              "    <tr>\n",
              "      <th>2</th>\n",
              "      <td>Automotive</td>\n",
              "      <td>Automotive\\r\\n            \\nThe automotive ind...</td>\n",
              "      <td>[automotive, automotive, industry, evolving, u...</td>\n",
              "    </tr>\n",
              "    <tr>\n",
              "      <th>3</th>\n",
              "      <td>Civil Engineering</td>\n",
              "      <td>Civil Engineering\\r\\n            \\nSuper-tall ...</td>\n",
              "      <td>[civil, engineer, super, tall, buildings, syst...</td>\n",
              "    </tr>\n",
              "    <tr>\n",
              "      <th>4</th>\n",
              "      <td>Consumer Goods</td>\n",
              "      <td>Consumer Goods\\r\\n            \\nWhat makes con...</td>\n",
              "      <td>[consumer, goods, makes, consumer, loyal, fact...</td>\n",
              "    </tr>\n",
              "    <tr>\n",
              "      <th>5</th>\n",
              "      <td>Electronics</td>\n",
              "      <td>Electronics\\r\\n            \\nElectronics are a...</td>\n",
              "      <td>[electronic, electronic, lives, professionally...</td>\n",
              "    </tr>\n",
              "    <tr>\n",
              "      <th>6</th>\n",
              "      <td>Energy</td>\n",
              "      <td>Energy\\r\\n            \\nThe global demand for ...</td>\n",
              "      <td>[energy, global, demand, energy, continues, in...</td>\n",
              "    </tr>\n",
              "    <tr>\n",
              "      <th>7</th>\n",
              "      <td>Financial Services</td>\n",
              "      <td>Financial Services\\r\\n            \\nAltair’s 3...</td>\n",
              "      <td>[financial, services, year, history, working, ...</td>\n",
              "    </tr>\n",
              "    <tr>\n",
              "      <th>8</th>\n",
              "      <td>Government Agencies</td>\n",
              "      <td>Government Agencies\\r\\n            \\nGovernmen...</td>\n",
              "      <td>[government, agencies, government, academic, o...</td>\n",
              "    </tr>\n",
              "    <tr>\n",
              "      <th>9</th>\n",
              "      <td>Healthcare</td>\n",
              "      <td>Healthcare\\r\\n            \\nSimulation can be ...</td>\n",
              "      <td>[healthcare, key, understanding, complex, issu...</td>\n",
              "    </tr>\n",
              "    <tr>\n",
              "      <th>10</th>\n",
              "      <td>Marine</td>\n",
              "      <td>Marine\\r\\n            \\nFrom the design and ma...</td>\n",
              "      <td>[marine, design, manufacture, small, recreatio...</td>\n",
              "    </tr>\n",
              "    <tr>\n",
              "      <th>11</th>\n",
              "      <td>Process Manufacturing</td>\n",
              "      <td>Process Manufacturing\\r\\n            \\nAny ind...</td>\n",
              "      <td>[process, manufacturing, industry, produces, b...</td>\n",
              "    </tr>\n",
              "    <tr>\n",
              "      <th>12</th>\n",
              "      <td>Rail</td>\n",
              "      <td>Rail\\r\\n            \\nAs with many other secto...</td>\n",
              "      <td>[rail, sectors, rail, industry, increasing, em...</td>\n",
              "    </tr>\n",
              "    <tr>\n",
              "      <th>13</th>\n",
              "      <td>Retail</td>\n",
              "      <td>Retail\\r\\n            \\nAltair’s data analytic...</td>\n",
              "      <td>[retail, data, analytics, solutions, enable, r...</td>\n",
              "    </tr>\n",
              "    <tr>\n",
              "      <th>14</th>\n",
              "      <td>Weather and Climate</td>\n",
              "      <td>Weather and Climate\\r\\n            \\nWeather a...</td>\n",
              "      <td>[weather, climate, weather, climate, centers, ...</td>\n",
              "    </tr>\n",
              "  </tbody>\n",
              "</table>\n",
              "</div>"
            ],
            "text/plain": [
              "                           label  ...                                        text_tokens\n",
              "0                      Aerospace  ...  [aerospace, aerospace, belongs, explorers, ins...\n",
              "1   Agriculture and Construction  ...  [agriculture, construction, big, jobs, highway...\n",
              "2                     Automotive  ...  [automotive, automotive, industry, evolving, u...\n",
              "3              Civil Engineering  ...  [civil, engineer, super, tall, buildings, syst...\n",
              "4                 Consumer Goods  ...  [consumer, goods, makes, consumer, loyal, fact...\n",
              "5                    Electronics  ...  [electronic, electronic, lives, professionally...\n",
              "6                         Energy  ...  [energy, global, demand, energy, continues, in...\n",
              "7             Financial Services  ...  [financial, services, year, history, working, ...\n",
              "8            Government Agencies  ...  [government, agencies, government, academic, o...\n",
              "9                     Healthcare  ...  [healthcare, key, understanding, complex, issu...\n",
              "10                        Marine  ...  [marine, design, manufacture, small, recreatio...\n",
              "11         Process Manufacturing  ...  [process, manufacturing, industry, produces, b...\n",
              "12                          Rail  ...  [rail, sectors, rail, industry, increasing, em...\n",
              "13                        Retail  ...  [retail, data, analytics, solutions, enable, r...\n",
              "14           Weather and Climate  ...  [weather, climate, weather, climate, centers, ...\n",
              "\n",
              "[15 rows x 3 columns]"
            ]
          },
          "metadata": {
            "tags": []
          },
          "execution_count": 83
        }
      ]
    },
    {
      "cell_type": "code",
      "metadata": {
        "id": "GNp3VigFIMRl",
        "colab_type": "code",
        "colab": {
          "base_uri": "https://localhost:8080/",
          "height": 563,
          "referenced_widgets": [
            "b84df523d0aa48898fd3c75ac62cca04",
            "ba9fdd40a1734545a5ccc0c655a97794",
            "c31248036d9547debc80d427fdad1b45",
            "6f26c15488bc4e9b8197408eb81a58ab",
            "6cfb2520216c4e2db9c1db2ce9d0f9ae",
            "44242b3e0825490a9f25a6855209b45f",
            "34eea0b45e264bfa8b3ae8c710c8a9e1",
            "2ae92b6d4de142bb8734c5fffa8b1520"
          ]
        },
        "outputId": "b3973139-2d22-4045-951e-82a72aef899d"
      },
      "source": [
        "df1 = df.reset_index(drop=True)\n",
        "\n",
        "# tokenize the category text\n",
        "df2 = tokenize(df1, 'text')\n",
        "\n",
        "df2"
      ],
      "execution_count": null,
      "outputs": [
        {
          "output_type": "display_data",
          "data": {
            "application/vnd.jupyter.widget-view+json": {
              "model_id": "b84df523d0aa48898fd3c75ac62cca04",
              "version_minor": 0,
              "version_major": 2
            },
            "text/plain": [
              "HBox(children=(FloatProgress(value=0.0, max=15.0), HTML(value='')))"
            ]
          },
          "metadata": {
            "tags": []
          }
        },
        {
          "output_type": "stream",
          "text": [
            "\n"
          ],
          "name": "stdout"
        },
        {
          "output_type": "execute_result",
          "data": {
            "text/html": [
              "<div>\n",
              "<style scoped>\n",
              "    .dataframe tbody tr th:only-of-type {\n",
              "        vertical-align: middle;\n",
              "    }\n",
              "\n",
              "    .dataframe tbody tr th {\n",
              "        vertical-align: top;\n",
              "    }\n",
              "\n",
              "    .dataframe thead th {\n",
              "        text-align: right;\n",
              "    }\n",
              "</style>\n",
              "<table border=\"1\" class=\"dataframe\">\n",
              "  <thead>\n",
              "    <tr style=\"text-align: right;\">\n",
              "      <th></th>\n",
              "      <th>label</th>\n",
              "      <th>text</th>\n",
              "      <th>text_tokens</th>\n",
              "    </tr>\n",
              "  </thead>\n",
              "  <tbody>\n",
              "    <tr>\n",
              "      <th>0</th>\n",
              "      <td>Aerospace</td>\n",
              "      <td>Aerospace\\r\\n            \\nAerospace belongs t...</td>\n",
              "      <td>[aerospace, aerospace, belongs, explorers, ins...</td>\n",
              "    </tr>\n",
              "    <tr>\n",
              "      <th>1</th>\n",
              "      <td>Agriculture and Construction</td>\n",
              "      <td>Agriculture and Construction\\r\\n            \\n...</td>\n",
              "      <td>[agriculture, construction, big, jobs, highway...</td>\n",
              "    </tr>\n",
              "    <tr>\n",
              "      <th>2</th>\n",
              "      <td>Automotive</td>\n",
              "      <td>Automotive\\r\\n            \\nThe automotive ind...</td>\n",
              "      <td>[automotive, automotive, industry, evolving, u...</td>\n",
              "    </tr>\n",
              "    <tr>\n",
              "      <th>3</th>\n",
              "      <td>Civil Engineering</td>\n",
              "      <td>Civil Engineering\\r\\n            \\nSuper-tall ...</td>\n",
              "      <td>[civil, engineer, super, tall, buildings, syst...</td>\n",
              "    </tr>\n",
              "    <tr>\n",
              "      <th>4</th>\n",
              "      <td>Consumer Goods</td>\n",
              "      <td>Consumer Goods\\r\\n            \\nWhat makes con...</td>\n",
              "      <td>[consumer, goods, makes, consumer, loyal, fact...</td>\n",
              "    </tr>\n",
              "    <tr>\n",
              "      <th>5</th>\n",
              "      <td>Electronics</td>\n",
              "      <td>Electronics\\r\\n            \\nElectronics are a...</td>\n",
              "      <td>[electronic, electronic, lives, professionally...</td>\n",
              "    </tr>\n",
              "    <tr>\n",
              "      <th>6</th>\n",
              "      <td>Energy</td>\n",
              "      <td>Energy\\r\\n            \\nThe global demand for ...</td>\n",
              "      <td>[energy, global, demand, energy, continues, in...</td>\n",
              "    </tr>\n",
              "    <tr>\n",
              "      <th>7</th>\n",
              "      <td>Financial Services</td>\n",
              "      <td>Financial Services\\r\\n            \\nAltair’s 3...</td>\n",
              "      <td>[financial, services, year, history, working, ...</td>\n",
              "    </tr>\n",
              "    <tr>\n",
              "      <th>8</th>\n",
              "      <td>Government Agencies</td>\n",
              "      <td>Government Agencies\\r\\n            \\nGovernmen...</td>\n",
              "      <td>[government, agencies, government, academic, o...</td>\n",
              "    </tr>\n",
              "    <tr>\n",
              "      <th>9</th>\n",
              "      <td>Healthcare</td>\n",
              "      <td>Healthcare\\r\\n            \\nSimulation can be ...</td>\n",
              "      <td>[healthcare, key, understanding, complex, issu...</td>\n",
              "    </tr>\n",
              "    <tr>\n",
              "      <th>10</th>\n",
              "      <td>Marine</td>\n",
              "      <td>Marine\\r\\n            \\nFrom the design and ma...</td>\n",
              "      <td>[marine, design, manufacture, small, recreatio...</td>\n",
              "    </tr>\n",
              "    <tr>\n",
              "      <th>11</th>\n",
              "      <td>Process Manufacturing</td>\n",
              "      <td>Process Manufacturing\\r\\n            \\nAny ind...</td>\n",
              "      <td>[process, manufacturing, industry, produces, b...</td>\n",
              "    </tr>\n",
              "    <tr>\n",
              "      <th>12</th>\n",
              "      <td>Rail</td>\n",
              "      <td>Rail\\r\\n            \\nAs with many other secto...</td>\n",
              "      <td>[rail, sectors, rail, industry, increasing, em...</td>\n",
              "    </tr>\n",
              "    <tr>\n",
              "      <th>13</th>\n",
              "      <td>Retail</td>\n",
              "      <td>Retail\\r\\n            \\nAltair’s data analytic...</td>\n",
              "      <td>[retail, data, analytics, solutions, enable, r...</td>\n",
              "    </tr>\n",
              "    <tr>\n",
              "      <th>14</th>\n",
              "      <td>Weather and Climate</td>\n",
              "      <td>Weather and Climate\\r\\n            \\nWeather a...</td>\n",
              "      <td>[weather, climate, weather, climate, centers, ...</td>\n",
              "    </tr>\n",
              "  </tbody>\n",
              "</table>\n",
              "</div>"
            ],
            "text/plain": [
              "                           label  ...                                        text_tokens\n",
              "0                      Aerospace  ...  [aerospace, aerospace, belongs, explorers, ins...\n",
              "1   Agriculture and Construction  ...  [agriculture, construction, big, jobs, highway...\n",
              "2                     Automotive  ...  [automotive, automotive, industry, evolving, u...\n",
              "3              Civil Engineering  ...  [civil, engineer, super, tall, buildings, syst...\n",
              "4                 Consumer Goods  ...  [consumer, goods, makes, consumer, loyal, fact...\n",
              "5                    Electronics  ...  [electronic, electronic, lives, professionally...\n",
              "6                         Energy  ...  [energy, global, demand, energy, continues, in...\n",
              "7             Financial Services  ...  [financial, services, year, history, working, ...\n",
              "8            Government Agencies  ...  [government, agencies, government, academic, o...\n",
              "9                     Healthcare  ...  [healthcare, key, understanding, complex, issu...\n",
              "10                        Marine  ...  [marine, design, manufacture, small, recreatio...\n",
              "11         Process Manufacturing  ...  [process, manufacturing, industry, produces, b...\n",
              "12                          Rail  ...  [rail, sectors, rail, industry, increasing, em...\n",
              "13                        Retail  ...  [retail, data, analytics, solutions, enable, r...\n",
              "14           Weather and Climate  ...  [weather, climate, weather, climate, centers, ...\n",
              "\n",
              "[15 rows x 3 columns]"
            ]
          },
          "metadata": {
            "tags": []
          },
          "execution_count": 93
        }
      ]
    },
    {
      "cell_type": "code",
      "metadata": {
        "id": "xUygaQOTNWwx",
        "colab_type": "code",
        "colab": {}
      },
      "source": [
        ""
      ],
      "execution_count": null,
      "outputs": []
    },
    {
      "cell_type": "code",
      "metadata": {
        "id": "FEtmLr-nIJKF",
        "colab_type": "code",
        "colab": {
          "base_uri": "https://localhost:8080/",
          "height": 514
        },
        "outputId": "96339337-2161-4c45-a9fd-3a8d44a642ee"
      },
      "source": [
        ""
      ],
      "execution_count": null,
      "outputs": [
        {
          "output_type": "execute_result",
          "data": {
            "text/html": [
              "<div>\n",
              "<style scoped>\n",
              "    .dataframe tbody tr th:only-of-type {\n",
              "        vertical-align: middle;\n",
              "    }\n",
              "\n",
              "    .dataframe tbody tr th {\n",
              "        vertical-align: top;\n",
              "    }\n",
              "\n",
              "    .dataframe thead th {\n",
              "        text-align: right;\n",
              "    }\n",
              "</style>\n",
              "<table border=\"1\" class=\"dataframe\">\n",
              "  <thead>\n",
              "    <tr style=\"text-align: right;\">\n",
              "      <th></th>\n",
              "      <th>label</th>\n",
              "      <th>text</th>\n",
              "      <th>text_tokens</th>\n",
              "    </tr>\n",
              "  </thead>\n",
              "  <tbody>\n",
              "    <tr>\n",
              "      <th>0</th>\n",
              "      <td>Aerospace</td>\n",
              "      <td>\\n\\n\\r\\n                Aerospace\\r\\n         ...</td>\n",
              "      <td>[aerospace, aerospace, belongs, explorers, ins...</td>\n",
              "    </tr>\n",
              "    <tr>\n",
              "      <th>1</th>\n",
              "      <td>Agriculture and Construction</td>\n",
              "      <td>\\n\\n\\r\\n                Agriculture and Constr...</td>\n",
              "      <td>[agriculture, construction, big, jobs, highway...</td>\n",
              "    </tr>\n",
              "    <tr>\n",
              "      <th>2</th>\n",
              "      <td>Automotive</td>\n",
              "      <td>\\n\\n\\r\\n                Automotive\\r\\n        ...</td>\n",
              "      <td>[automotive, automotive, industry, evolving, u...</td>\n",
              "    </tr>\n",
              "    <tr>\n",
              "      <th>3</th>\n",
              "      <td>Civil Engineering</td>\n",
              "      <td>\\n\\n\\r\\n                Civil Engineering\\r\\n ...</td>\n",
              "      <td>[civil, engineer, super, tall, buildings, syst...</td>\n",
              "    </tr>\n",
              "    <tr>\n",
              "      <th>4</th>\n",
              "      <td>Consumer Goods</td>\n",
              "      <td>\\n\\n\\r\\n                Consumer Goods\\r\\n    ...</td>\n",
              "      <td>[consumer, goods, makes, consumer, loyal, fact...</td>\n",
              "    </tr>\n",
              "    <tr>\n",
              "      <th>5</th>\n",
              "      <td>Electronics</td>\n",
              "      <td>\\n\\n\\r\\n                Electronics\\r\\n       ...</td>\n",
              "      <td>[electronic, electronic, lives, professionally...</td>\n",
              "    </tr>\n",
              "    <tr>\n",
              "      <th>6</th>\n",
              "      <td>Energy</td>\n",
              "      <td>\\n\\n\\r\\n                Energy\\r\\n            ...</td>\n",
              "      <td>[energy, global, demand, energy, continues, in...</td>\n",
              "    </tr>\n",
              "    <tr>\n",
              "      <th>7</th>\n",
              "      <td>Financial Services</td>\n",
              "      <td>\\n\\n\\r\\n                Financial Services\\r\\n...</td>\n",
              "      <td>[financial, services, year, history, working, ...</td>\n",
              "    </tr>\n",
              "    <tr>\n",
              "      <th>8</th>\n",
              "      <td>Government Agencies</td>\n",
              "      <td>\\n\\n\\r\\n                Government Agencies\\r\\...</td>\n",
              "      <td>[government, agencies, government, academic, o...</td>\n",
              "    </tr>\n",
              "    <tr>\n",
              "      <th>9</th>\n",
              "      <td>Healthcare</td>\n",
              "      <td>\\n\\n\\r\\n                Healthcare\\r\\n        ...</td>\n",
              "      <td>[healthcare, key, understanding, complex, issu...</td>\n",
              "    </tr>\n",
              "    <tr>\n",
              "      <th>10</th>\n",
              "      <td>Marine</td>\n",
              "      <td>\\n\\n\\r\\n                Marine\\r\\n            ...</td>\n",
              "      <td>[marine, design, manufacture, small, recreatio...</td>\n",
              "    </tr>\n",
              "    <tr>\n",
              "      <th>11</th>\n",
              "      <td>Process Manufacturing</td>\n",
              "      <td>\\n\\n\\r\\n                Process Manufacturing\\...</td>\n",
              "      <td>[process, manufacturing, industry, produces, b...</td>\n",
              "    </tr>\n",
              "    <tr>\n",
              "      <th>12</th>\n",
              "      <td>Rail</td>\n",
              "      <td>\\n\\n\\r\\n                Rail\\r\\n            \\n...</td>\n",
              "      <td>[rail, sectors, rail, industry, increasing, em...</td>\n",
              "    </tr>\n",
              "    <tr>\n",
              "      <th>13</th>\n",
              "      <td>Retail</td>\n",
              "      <td>\\n\\n\\r\\n                Retail\\r\\n            ...</td>\n",
              "      <td>[retail, data, analytics, solutions, enable, r...</td>\n",
              "    </tr>\n",
              "    <tr>\n",
              "      <th>14</th>\n",
              "      <td>Weather and Climate</td>\n",
              "      <td>\\n\\n\\r\\n                Weather and Climate\\r\\...</td>\n",
              "      <td>[weather, climate, weather, climate, centers, ...</td>\n",
              "    </tr>\n",
              "  </tbody>\n",
              "</table>\n",
              "</div>"
            ],
            "text/plain": [
              "                           label  ...                                        text_tokens\n",
              "0                      Aerospace  ...  [aerospace, aerospace, belongs, explorers, ins...\n",
              "1   Agriculture and Construction  ...  [agriculture, construction, big, jobs, highway...\n",
              "2                     Automotive  ...  [automotive, automotive, industry, evolving, u...\n",
              "3              Civil Engineering  ...  [civil, engineer, super, tall, buildings, syst...\n",
              "4                 Consumer Goods  ...  [consumer, goods, makes, consumer, loyal, fact...\n",
              "5                    Electronics  ...  [electronic, electronic, lives, professionally...\n",
              "6                         Energy  ...  [energy, global, demand, energy, continues, in...\n",
              "7             Financial Services  ...  [financial, services, year, history, working, ...\n",
              "8            Government Agencies  ...  [government, agencies, government, academic, o...\n",
              "9                     Healthcare  ...  [healthcare, key, understanding, complex, issu...\n",
              "10                        Marine  ...  [marine, design, manufacture, small, recreatio...\n",
              "11         Process Manufacturing  ...  [process, manufacturing, industry, produces, b...\n",
              "12                          Rail  ...  [rail, sectors, rail, industry, increasing, em...\n",
              "13                        Retail  ...  [retail, data, analytics, solutions, enable, r...\n",
              "14           Weather and Climate  ...  [weather, climate, weather, climate, centers, ...\n",
              "\n",
              "[15 rows x 3 columns]"
            ]
          },
          "metadata": {
            "tags": []
          },
          "execution_count": 63
        }
      ]
    },
    {
      "cell_type": "code",
      "metadata": {
        "id": "ZUbfX6a1GoTV",
        "colab_type": "code",
        "colab": {}
      },
      "source": [
        ""
      ],
      "execution_count": null,
      "outputs": []
    },
    {
      "cell_type": "code",
      "metadata": {
        "id": "Os-VCYW5GyD_",
        "colab_type": "code",
        "colab": {}
      },
      "source": [
        ""
      ],
      "execution_count": null,
      "outputs": []
    },
    {
      "cell_type": "code",
      "metadata": {
        "id": "n7Ggat89G2qO",
        "colab_type": "code",
        "colab": {}
      },
      "source": [
        ""
      ],
      "execution_count": null,
      "outputs": []
    },
    {
      "cell_type": "code",
      "metadata": {
        "id": "cOwcsRGSIKYu",
        "colab_type": "code",
        "colab": {}
      },
      "source": [
        ""
      ],
      "execution_count": null,
      "outputs": []
    },
    {
      "cell_type": "code",
      "metadata": {
        "id": "WJ5Wl7wGKpOw",
        "colab_type": "code",
        "colab": {}
      },
      "source": [
        ""
      ],
      "execution_count": null,
      "outputs": []
    }
  ]
}
