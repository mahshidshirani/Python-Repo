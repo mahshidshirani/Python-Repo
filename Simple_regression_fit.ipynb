{
 "cells": [
  {
   "cell_type": "code",
   "execution_count": 2,
   "metadata": {},
   "outputs": [
    {
     "name": "stdout",
     "output_type": "stream",
     "text": [
      "MS\n"
     ]
    }
   ],
   "source": [
    "print(\"MS\")"
   ]
  },
  {
   "cell_type": "code",
   "execution_count": 3,
   "metadata": {},
   "outputs": [
    {
     "data": {
      "text/plain": [
       "True"
      ]
     },
     "execution_count": 3,
     "metadata": {},
     "output_type": "execute_result"
    }
   ],
   "source": [
    "a=1\n",
    "a==1"
   ]
  },
  {
   "cell_type": "code",
   "execution_count": 1,
   "metadata": {},
   "outputs": [],
   "source": [
    "import pandas as pd\n",
    "import numpy as np\n",
    "from sklearn.linear_model import LinearRegression"
   ]
  },
  {
   "cell_type": "code",
   "execution_count": 37,
   "metadata": {},
   "outputs": [],
   "source": [
    "import matplotlib.pyplot as plt\n",
    "from numpy.polynomial.polynomial import polyfit\n",
    "import matplotlib.cbook as cbook"
   ]
  },
  {
   "cell_type": "code",
   "execution_count": null,
   "metadata": {},
   "outputs": [],
   "source": [
    "# Define slope and intercept\n",
    "a = 10\n",
    "b = 5"
   ]
  },
  {
   "cell_type": "code",
   "execution_count": 102,
   "metadata": {},
   "outputs": [],
   "source": [
    "# Simulate x and y values for linear regression\n",
    "x = np.random.randn(30)*5\n",
    "y = a + b*x + np.random.randn(30)*9\n",
    "x_less = x[:10].reshape(-1,1)\n",
    "y_less = y[:10]\n",
    "x_full = x.reshape(-1,1)\n",
    "y_full = y"
   ]
  },
  {
   "cell_type": "code",
   "execution_count": 179,
   "metadata": {},
   "outputs": [
    {
     "data": {
      "text/plain": [
       "(array([ -5.55674665,  -7.1379651 ,  -4.67772813,  -7.53883975,\n",
       "          3.08276775,  -3.89953783,   2.10229127,  -7.3547292 ,\n",
       "          1.14583549,   5.2657306 ,   8.75528372,   3.08930102,\n",
       "          2.38984479,  -3.75446483,   7.32360428,   5.18609999,\n",
       "        -10.29312507,  -2.80856546,   2.75899852,  -0.18782614,\n",
       "          6.67863495,   2.89323876,  -4.90715153,   2.0049462 ,\n",
       "          4.32184728,   6.67809023,   0.31995478,  -7.07944354,\n",
       "         -1.52883559,  -5.98325075]),\n",
       " array([-40.27887008, -50.23193076, -48.60405458, -46.35474251,\n",
       "         35.33823403, -21.97684733,  19.64580593, -59.22124788,\n",
       "         30.9758525 ,  63.24012466,  88.20592518,  37.3236033 ,\n",
       "         26.28382243, -21.91569627,  64.4005559 ,  80.39126432,\n",
       "        -64.46216826, -40.69273684,  32.04766681,  -4.91803058,\n",
       "         71.58970475,  21.72107505, -38.29578467,  45.06116095,\n",
       "         53.74179102,  68.25864417,   4.11430443, -49.78163003,\n",
       "          3.53511911, -45.06645776]))"
      ]
     },
     "execution_count": 179,
     "metadata": {},
     "output_type": "execute_result"
    }
   ],
   "source": [
    "x,y"
   ]
  },
  {
   "cell_type": "code",
   "execution_count": 197,
   "metadata": {},
   "outputs": [],
   "source": [
    "df_x = pd.DataFrame(x , columns = ['x'])\n",
    "df_y = pd.DataFrame(y , columns = ['Y'])"
   ]
  },
  {
   "cell_type": "code",
   "execution_count": 192,
   "metadata": {},
   "outputs": [
    {
     "data": {
      "text/plain": [
       "pandas.core.frame.DataFrame"
      ]
     },
     "execution_count": 192,
     "metadata": {},
     "output_type": "execute_result"
    }
   ],
   "source": [
    "type(df_x)"
   ]
  },
  {
   "cell_type": "code",
   "execution_count": 199,
   "metadata": {},
   "outputs": [],
   "source": [
    "df=pd.concat([df_x, df_y] , axis = 1 )"
   ]
  },
  {
   "cell_type": "code",
   "execution_count": 200,
   "metadata": {},
   "outputs": [
    {
     "data": {
      "text/html": [
       "<div>\n",
       "<style scoped>\n",
       "    .dataframe tbody tr th:only-of-type {\n",
       "        vertical-align: middle;\n",
       "    }\n",
       "\n",
       "    .dataframe tbody tr th {\n",
       "        vertical-align: top;\n",
       "    }\n",
       "\n",
       "    .dataframe thead th {\n",
       "        text-align: right;\n",
       "    }\n",
       "</style>\n",
       "<table border=\"1\" class=\"dataframe\">\n",
       "  <thead>\n",
       "    <tr style=\"text-align: right;\">\n",
       "      <th></th>\n",
       "      <th>x</th>\n",
       "      <th>Y</th>\n",
       "    </tr>\n",
       "  </thead>\n",
       "  <tbody>\n",
       "    <tr>\n",
       "      <td>0</td>\n",
       "      <td>-5.556747</td>\n",
       "      <td>-40.278870</td>\n",
       "    </tr>\n",
       "    <tr>\n",
       "      <td>1</td>\n",
       "      <td>-7.137965</td>\n",
       "      <td>-50.231931</td>\n",
       "    </tr>\n",
       "    <tr>\n",
       "      <td>2</td>\n",
       "      <td>-4.677728</td>\n",
       "      <td>-48.604055</td>\n",
       "    </tr>\n",
       "    <tr>\n",
       "      <td>3</td>\n",
       "      <td>-7.538840</td>\n",
       "      <td>-46.354743</td>\n",
       "    </tr>\n",
       "    <tr>\n",
       "      <td>4</td>\n",
       "      <td>3.082768</td>\n",
       "      <td>35.338234</td>\n",
       "    </tr>\n",
       "    <tr>\n",
       "      <td>5</td>\n",
       "      <td>-3.899538</td>\n",
       "      <td>-21.976847</td>\n",
       "    </tr>\n",
       "    <tr>\n",
       "      <td>6</td>\n",
       "      <td>2.102291</td>\n",
       "      <td>19.645806</td>\n",
       "    </tr>\n",
       "    <tr>\n",
       "      <td>7</td>\n",
       "      <td>-7.354729</td>\n",
       "      <td>-59.221248</td>\n",
       "    </tr>\n",
       "    <tr>\n",
       "      <td>8</td>\n",
       "      <td>1.145835</td>\n",
       "      <td>30.975853</td>\n",
       "    </tr>\n",
       "    <tr>\n",
       "      <td>9</td>\n",
       "      <td>5.265731</td>\n",
       "      <td>63.240125</td>\n",
       "    </tr>\n",
       "    <tr>\n",
       "      <td>10</td>\n",
       "      <td>8.755284</td>\n",
       "      <td>88.205925</td>\n",
       "    </tr>\n",
       "    <tr>\n",
       "      <td>11</td>\n",
       "      <td>3.089301</td>\n",
       "      <td>37.323603</td>\n",
       "    </tr>\n",
       "    <tr>\n",
       "      <td>12</td>\n",
       "      <td>2.389845</td>\n",
       "      <td>26.283822</td>\n",
       "    </tr>\n",
       "    <tr>\n",
       "      <td>13</td>\n",
       "      <td>-3.754465</td>\n",
       "      <td>-21.915696</td>\n",
       "    </tr>\n",
       "    <tr>\n",
       "      <td>14</td>\n",
       "      <td>7.323604</td>\n",
       "      <td>64.400556</td>\n",
       "    </tr>\n",
       "    <tr>\n",
       "      <td>15</td>\n",
       "      <td>5.186100</td>\n",
       "      <td>80.391264</td>\n",
       "    </tr>\n",
       "    <tr>\n",
       "      <td>16</td>\n",
       "      <td>-10.293125</td>\n",
       "      <td>-64.462168</td>\n",
       "    </tr>\n",
       "    <tr>\n",
       "      <td>17</td>\n",
       "      <td>-2.808565</td>\n",
       "      <td>-40.692737</td>\n",
       "    </tr>\n",
       "    <tr>\n",
       "      <td>18</td>\n",
       "      <td>2.758999</td>\n",
       "      <td>32.047667</td>\n",
       "    </tr>\n",
       "    <tr>\n",
       "      <td>19</td>\n",
       "      <td>-0.187826</td>\n",
       "      <td>-4.918031</td>\n",
       "    </tr>\n",
       "    <tr>\n",
       "      <td>20</td>\n",
       "      <td>6.678635</td>\n",
       "      <td>71.589705</td>\n",
       "    </tr>\n",
       "    <tr>\n",
       "      <td>21</td>\n",
       "      <td>2.893239</td>\n",
       "      <td>21.721075</td>\n",
       "    </tr>\n",
       "    <tr>\n",
       "      <td>22</td>\n",
       "      <td>-4.907152</td>\n",
       "      <td>-38.295785</td>\n",
       "    </tr>\n",
       "    <tr>\n",
       "      <td>23</td>\n",
       "      <td>2.004946</td>\n",
       "      <td>45.061161</td>\n",
       "    </tr>\n",
       "    <tr>\n",
       "      <td>24</td>\n",
       "      <td>4.321847</td>\n",
       "      <td>53.741791</td>\n",
       "    </tr>\n",
       "    <tr>\n",
       "      <td>25</td>\n",
       "      <td>6.678090</td>\n",
       "      <td>68.258644</td>\n",
       "    </tr>\n",
       "    <tr>\n",
       "      <td>26</td>\n",
       "      <td>0.319955</td>\n",
       "      <td>4.114304</td>\n",
       "    </tr>\n",
       "    <tr>\n",
       "      <td>27</td>\n",
       "      <td>-7.079444</td>\n",
       "      <td>-49.781630</td>\n",
       "    </tr>\n",
       "    <tr>\n",
       "      <td>28</td>\n",
       "      <td>-1.528836</td>\n",
       "      <td>3.535119</td>\n",
       "    </tr>\n",
       "    <tr>\n",
       "      <td>29</td>\n",
       "      <td>-5.983251</td>\n",
       "      <td>-45.066458</td>\n",
       "    </tr>\n",
       "  </tbody>\n",
       "</table>\n",
       "</div>"
      ],
      "text/plain": [
       "            x          Y\n",
       "0   -5.556747 -40.278870\n",
       "1   -7.137965 -50.231931\n",
       "2   -4.677728 -48.604055\n",
       "3   -7.538840 -46.354743\n",
       "4    3.082768  35.338234\n",
       "5   -3.899538 -21.976847\n",
       "6    2.102291  19.645806\n",
       "7   -7.354729 -59.221248\n",
       "8    1.145835  30.975853\n",
       "9    5.265731  63.240125\n",
       "10   8.755284  88.205925\n",
       "11   3.089301  37.323603\n",
       "12   2.389845  26.283822\n",
       "13  -3.754465 -21.915696\n",
       "14   7.323604  64.400556\n",
       "15   5.186100  80.391264\n",
       "16 -10.293125 -64.462168\n",
       "17  -2.808565 -40.692737\n",
       "18   2.758999  32.047667\n",
       "19  -0.187826  -4.918031\n",
       "20   6.678635  71.589705\n",
       "21   2.893239  21.721075\n",
       "22  -4.907152 -38.295785\n",
       "23   2.004946  45.061161\n",
       "24   4.321847  53.741791\n",
       "25   6.678090  68.258644\n",
       "26   0.319955   4.114304\n",
       "27  -7.079444 -49.781630\n",
       "28  -1.528836   3.535119\n",
       "29  -5.983251 -45.066458"
      ]
     },
     "execution_count": 200,
     "metadata": {},
     "output_type": "execute_result"
    }
   ],
   "source": [
    "df"
   ]
  },
  {
   "cell_type": "code",
   "execution_count": 121,
   "metadata": {},
   "outputs": [
    {
     "data": {
      "text/plain": [
       "<matplotlib.collections.PathCollection at 0x1825d8959c8>"
      ]
     },
     "execution_count": 121,
     "metadata": {},
     "output_type": "execute_result"
    },
    {
     "data": {
      "image/png": "[encoded data removed]",
      "text/plain": [
       "<Figure size 432x288 with 1 Axes>"
      ]
     },
     "metadata": {
      "needs_background": "light"
     },
     "output_type": "display_data"
    }
   ],
   "source": [
    "plt.scatter(x , y)"
   ]
  },
  {
   "cell_type": "code",
   "execution_count": 104,
   "metadata": {},
   "outputs": [],
   "source": [
    "b, m = polyfit(x, y, 1)"
   ]
  },
  {
   "cell_type": "code",
   "execution_count": 128,
   "metadata": {},
   "outputs": [
    {
     "data": {
      "text/plain": [
       "(9.70494011622534, 8.847112870187066)"
      ]
     },
     "execution_count": 128,
     "metadata": {},
     "output_type": "execute_result"
    }
   ],
   "source": [
    "b,m"
   ]
  },
  {
   "cell_type": "code",
   "execution_count": 156,
   "metadata": {},
   "outputs": [
    {
     "data": {
      "image/png": "[encoded data removed]",
      "text/plain": [
       "<Figure size 432x288 with 1 Axes>"
      ]
     },
     "metadata": {
      "needs_background": "light"
     },
     "output_type": "display_data"
    },
    {
     "data": {
      "text/plain": [
       "<Figure size 40800x27200 with 0 Axes>"
      ]
     },
     "metadata": {},
     "output_type": "display_data"
    }
   ],
   "source": [
    "b, m = polyfit(x, y, 1)\n",
    "fig, ax = plt.subplots()\n",
    "\n",
    "# Add horizontal and vertical lines\n",
    "#plt.axhline(0, color = 'grey', alpha=0.75, linewidth=1)  #horizontal line\n",
    "#plt.axvline(0, color = 'grey', alpha=0.75, linewidth=1)\n",
    "\n",
    "ax.plot(x, y, 'o', color = 'salmon')\n",
    "ax.plot(x, b + m * x, '-', color = 'cadetblue')\n",
    "\n",
    "ax.set_xlabel('X', fontsize=15 , color = 'darkslategrey')\n",
    "ax.set_ylabel('Y', fontsize=15 , color = 'darkslategrey')\n",
    "#ax.set_title('Relationship between Y and X',fontsize=15, color = 'darkslategrey')\n",
    "\n",
    "#plt.gca().spines['top'].set_visible(False)\n",
    "#plt.gca().spines['right'].set_visible(False)\n",
    "\n",
    "#plt.grid(which='both', linewidth=0.25)\n",
    "#fig.tight_layout()\n",
    "plt.figure(dpi=6800)\n",
    "\n",
    "plt.show()"
   ]
  },
  {
   "cell_type": "code",
   "execution_count": 9,
   "metadata": {},
   "outputs": [
    {
     "data": {
      "text/plain": [
       "array([  0.99461905, -14.1110393 ,  -7.34902945,   2.36977648,\n",
       "        35.48212298,  28.42036357,  25.15887927,  16.91789318,\n",
       "        35.82795242,  36.69733966])"
      ]
     },
     "execution_count": 9,
     "metadata": {},
     "output_type": "execute_result"
    }
   ],
   "source": [
    "y_less"
   ]
  },
  {
   "cell_type": "code",
   "execution_count": 5,
   "metadata": {},
   "outputs": [],
   "source": [
    "# Fit regression model\n",
    "model = LinearRegression()\n"
   ]
  },
  {
   "cell_type": "code",
   "execution_count": 133,
   "metadata": {},
   "outputs": [
    {
     "data": {
      "text/plain": [
       "[<matplotlib.lines.Line2D at 0x1826c178848>]"
      ]
     },
     "execution_count": 133,
     "metadata": {},
     "output_type": "execute_result"
    },
    {
     "data": {
      "image/png": "[encoded data removed]",
      "text/plain": [
       "<Figure size 432x288 with 1 Axes>"
      ]
     },
     "metadata": {
      "needs_background": "light"
     },
     "output_type": "display_data"
    }
   ],
   "source": [
    "# Fit with less data and plot\n",
    "model.fit(x_less, y_less)\n",
    "predicted_less = model.predict(x_less)\n",
    "plt.scatter(x_less, y_less)\n",
    "plt.plot(x_less, 9.70494011622534 + 8.847112870187066 * x_less, '-')"
   ]
  },
  {
   "cell_type": "code",
   "execution_count": 129,
   "metadata": {},
   "outputs": [
    {
     "data": {
      "text/plain": [
       "[<matplotlib.lines.Line2D at 0x1826cb91b08>]"
      ]
     },
     "execution_count": 129,
     "metadata": {},
     "output_type": "execute_result"
    },
    {
     "data": {
      "image/png": "[encoded data removed]",
      "text/plain": [
       "<Figure size 432x288 with 1 Axes>"
      ]
     },
     "metadata": {
      "needs_background": "light"
     },
     "output_type": "display_data"
    }
   ],
   "source": [
    "# Fit with full data\n",
    "model.fit(x_full, y_full)\n",
    "predicted_full = model.predict(x_full)\n",
    "plt.scatter(x_full,y_full)\n",
    "plt.plot(x_full, 9.70494011622534 + 8.847112870187066 * x_full, '-')"
   ]
  }
 ],
 "metadata": {
  "kernelspec": {
   "display_name": "Python 3",
   "language": "python",
   "name": "python3"
  },
  "language_info": {
   "codemirror_mode": {
    "name": "ipython",
    "version": 3
   },
   "file_extension": ".py",
   "mimetype": "text/x-python",
   "name": "python",
   "nbconvert_exporter": "python",
   "pygments_lexer": "ipython3",
   "version": "3.7.4"
  }
 },
 "nbformat": 4,
 "nbformat_minor": 2
}
